{
 "cells": [
  {
   "cell_type": "markdown",
   "id": "b9bdc264",
   "metadata": {
    "slideshow": {
     "slide_type": "slide"
    }
   },
   "source": [
    "## Business Goal"
   ]
  },
  {
   "cell_type": "markdown",
   "id": "c1ea1703",
   "metadata": {
    "slideshow": {
     "slide_type": "slide"
    }
   },
   "source": [
    "#### You are required to model the price of used cars with the available independent variables"
   ]
  },
  {
   "cell_type": "code",
   "execution_count": 111,
   "id": "3b003956",
   "metadata": {
    "slideshow": {
     "slide_type": "slide"
    }
   },
   "outputs": [],
   "source": [
    "import numpy as np\n",
    "import pandas as pd\n",
    "import matplotlib.pyplot as plt\n",
    "import seaborn as sns\n",
    "sns.set(rc={'figure.figsize': [12, 10]},font_scale=1.2)"
   ]
  },
  {
   "cell_type": "markdown",
   "id": "19fb4676",
   "metadata": {
    "slideshow": {
     "slide_type": "slide"
    }
   },
   "source": [
    "## Step 1: Reading and Understanding the Data"
   ]
  },
  {
   "cell_type": "code",
   "execution_count": 101,
   "id": "1234ad8d",
   "metadata": {
    "slideshow": {
     "slide_type": "subslide"
    }
   },
   "outputs": [
    {
     "data": {
      "text/html": [
       "<div>\n",
       "<style scoped>\n",
       "    .dataframe tbody tr th:only-of-type {\n",
       "        vertical-align: middle;\n",
       "    }\n",
       "\n",
       "    .dataframe tbody tr th {\n",
       "        vertical-align: top;\n",
       "    }\n",
       "\n",
       "    .dataframe thead th {\n",
       "        text-align: right;\n",
       "    }\n",
       "</style>\n",
       "<table border=\"1\" class=\"dataframe\">\n",
       "  <thead>\n",
       "    <tr style=\"text-align: right;\">\n",
       "      <th></th>\n",
       "      <th>ID</th>\n",
       "      <th>Price</th>\n",
       "      <th>Levy</th>\n",
       "      <th>Manufacturer</th>\n",
       "      <th>Model</th>\n",
       "      <th>Prod. year</th>\n",
       "      <th>Category</th>\n",
       "      <th>Leather interior</th>\n",
       "      <th>Fuel type</th>\n",
       "      <th>Engine volume</th>\n",
       "      <th>Mileage</th>\n",
       "      <th>Cylinders</th>\n",
       "      <th>Gear box type</th>\n",
       "      <th>Drive wheels</th>\n",
       "      <th>Doors</th>\n",
       "      <th>Wheel</th>\n",
       "      <th>Color</th>\n",
       "      <th>Airbags</th>\n",
       "    </tr>\n",
       "  </thead>\n",
       "  <tbody>\n",
       "    <tr>\n",
       "      <th>0</th>\n",
       "      <td>45654403</td>\n",
       "      <td>13328</td>\n",
       "      <td>1399</td>\n",
       "      <td>LEXUS</td>\n",
       "      <td>RX 450</td>\n",
       "      <td>2010</td>\n",
       "      <td>Jeep</td>\n",
       "      <td>Yes</td>\n",
       "      <td>Hybrid</td>\n",
       "      <td>3.5</td>\n",
       "      <td>186005 km</td>\n",
       "      <td>6.0</td>\n",
       "      <td>Automatic</td>\n",
       "      <td>4x4</td>\n",
       "      <td>04-May</td>\n",
       "      <td>Left wheel</td>\n",
       "      <td>Silver</td>\n",
       "      <td>12</td>\n",
       "    </tr>\n",
       "    <tr>\n",
       "      <th>1</th>\n",
       "      <td>44731507</td>\n",
       "      <td>16621</td>\n",
       "      <td>1018</td>\n",
       "      <td>CHEVROLET</td>\n",
       "      <td>Equinox</td>\n",
       "      <td>2011</td>\n",
       "      <td>Jeep</td>\n",
       "      <td>No</td>\n",
       "      <td>Petrol</td>\n",
       "      <td>3</td>\n",
       "      <td>192000 km</td>\n",
       "      <td>6.0</td>\n",
       "      <td>Tiptronic</td>\n",
       "      <td>4x4</td>\n",
       "      <td>04-May</td>\n",
       "      <td>Left wheel</td>\n",
       "      <td>Black</td>\n",
       "      <td>8</td>\n",
       "    </tr>\n",
       "    <tr>\n",
       "      <th>2</th>\n",
       "      <td>45774419</td>\n",
       "      <td>8467</td>\n",
       "      <td>-</td>\n",
       "      <td>HONDA</td>\n",
       "      <td>FIT</td>\n",
       "      <td>2006</td>\n",
       "      <td>Hatchback</td>\n",
       "      <td>No</td>\n",
       "      <td>Petrol</td>\n",
       "      <td>1.3</td>\n",
       "      <td>200000 km</td>\n",
       "      <td>4.0</td>\n",
       "      <td>Variator</td>\n",
       "      <td>Front</td>\n",
       "      <td>04-May</td>\n",
       "      <td>Right-hand drive</td>\n",
       "      <td>Black</td>\n",
       "      <td>2</td>\n",
       "    </tr>\n",
       "    <tr>\n",
       "      <th>3</th>\n",
       "      <td>45769185</td>\n",
       "      <td>3607</td>\n",
       "      <td>862</td>\n",
       "      <td>FORD</td>\n",
       "      <td>Escape</td>\n",
       "      <td>2011</td>\n",
       "      <td>Jeep</td>\n",
       "      <td>Yes</td>\n",
       "      <td>Hybrid</td>\n",
       "      <td>2.5</td>\n",
       "      <td>168966 km</td>\n",
       "      <td>4.0</td>\n",
       "      <td>Automatic</td>\n",
       "      <td>4x4</td>\n",
       "      <td>04-May</td>\n",
       "      <td>Left wheel</td>\n",
       "      <td>White</td>\n",
       "      <td>0</td>\n",
       "    </tr>\n",
       "    <tr>\n",
       "      <th>4</th>\n",
       "      <td>45809263</td>\n",
       "      <td>11726</td>\n",
       "      <td>446</td>\n",
       "      <td>HONDA</td>\n",
       "      <td>FIT</td>\n",
       "      <td>2014</td>\n",
       "      <td>Hatchback</td>\n",
       "      <td>Yes</td>\n",
       "      <td>Petrol</td>\n",
       "      <td>1.3</td>\n",
       "      <td>91901 km</td>\n",
       "      <td>4.0</td>\n",
       "      <td>Automatic</td>\n",
       "      <td>Front</td>\n",
       "      <td>04-May</td>\n",
       "      <td>Left wheel</td>\n",
       "      <td>Silver</td>\n",
       "      <td>4</td>\n",
       "    </tr>\n",
       "  </tbody>\n",
       "</table>\n",
       "</div>"
      ],
      "text/plain": [
       "         ID  Price  Levy Manufacturer    Model  Prod. year   Category  \\\n",
       "0  45654403  13328  1399        LEXUS   RX 450        2010       Jeep   \n",
       "1  44731507  16621  1018    CHEVROLET  Equinox        2011       Jeep   \n",
       "2  45774419   8467     -        HONDA      FIT        2006  Hatchback   \n",
       "3  45769185   3607   862         FORD   Escape        2011       Jeep   \n",
       "4  45809263  11726   446        HONDA      FIT        2014  Hatchback   \n",
       "\n",
       "  Leather interior Fuel type Engine volume    Mileage  Cylinders  \\\n",
       "0              Yes    Hybrid           3.5  186005 km        6.0   \n",
       "1               No    Petrol             3  192000 km        6.0   \n",
       "2               No    Petrol           1.3  200000 km        4.0   \n",
       "3              Yes    Hybrid           2.5  168966 km        4.0   \n",
       "4              Yes    Petrol           1.3   91901 km        4.0   \n",
       "\n",
       "  Gear box type Drive wheels   Doors             Wheel   Color  Airbags  \n",
       "0     Automatic          4x4  04-May        Left wheel  Silver       12  \n",
       "1     Tiptronic          4x4  04-May        Left wheel   Black        8  \n",
       "2      Variator        Front  04-May  Right-hand drive   Black        2  \n",
       "3     Automatic          4x4  04-May        Left wheel   White        0  \n",
       "4     Automatic        Front  04-May        Left wheel  Silver        4  "
      ]
     },
     "execution_count": 101,
     "metadata": {},
     "output_type": "execute_result"
    }
   ],
   "source": [
    "df=pd.read_csv(\"car.csv\")\n",
    "df.head()"
   ]
  },
  {
   "cell_type": "code",
   "execution_count": 102,
   "id": "5a7c1b8d",
   "metadata": {},
   "outputs": [
    {
     "name": "stdout",
     "output_type": "stream",
     "text": [
      "<class 'pandas.core.frame.DataFrame'>\n",
      "RangeIndex: 19237 entries, 0 to 19236\n",
      "Data columns (total 18 columns):\n",
      " #   Column            Non-Null Count  Dtype  \n",
      "---  ------            --------------  -----  \n",
      " 0   ID                19237 non-null  int64  \n",
      " 1   Price             19237 non-null  int64  \n",
      " 2   Levy              19237 non-null  object \n",
      " 3   Manufacturer      19237 non-null  object \n",
      " 4   Model             19237 non-null  object \n",
      " 5   Prod. year        19237 non-null  int64  \n",
      " 6   Category          19237 non-null  object \n",
      " 7   Leather interior  19237 non-null  object \n",
      " 8   Fuel type         19237 non-null  object \n",
      " 9   Engine volume     19237 non-null  object \n",
      " 10  Mileage           19237 non-null  object \n",
      " 11  Cylinders         19237 non-null  float64\n",
      " 12  Gear box type     19237 non-null  object \n",
      " 13  Drive wheels      19237 non-null  object \n",
      " 14  Doors             19237 non-null  object \n",
      " 15  Wheel             19237 non-null  object \n",
      " 16  Color             19237 non-null  object \n",
      " 17  Airbags           19237 non-null  int64  \n",
      "dtypes: float64(1), int64(4), object(13)\n",
      "memory usage: 2.6+ MB\n"
     ]
    }
   ],
   "source": [
    "df.info()"
   ]
  },
  {
   "cell_type": "markdown",
   "id": "6deebbde",
   "metadata": {},
   "source": [
    "## Step 2 : Data Cleaning and Preparation"
   ]
  },
  {
   "cell_type": "markdown",
   "id": "a97f5dac",
   "metadata": {},
   "source": [
    "#### 1)ID"
   ]
  },
  {
   "cell_type": "code",
   "execution_count": null,
   "id": "43efb67c",
   "metadata": {},
   "outputs": [],
   "source": []
  },
  {
   "cell_type": "code",
   "execution_count": 103,
   "id": "f8fb7f3e",
   "metadata": {},
   "outputs": [
    {
     "data": {
      "text/plain": [
       "313"
      ]
     },
     "execution_count": 103,
     "metadata": {},
     "output_type": "execute_result"
    }
   ],
   "source": [
    "df.duplicated().sum()"
   ]
  },
  {
   "cell_type": "code",
   "execution_count": 104,
   "id": "e43021d6",
   "metadata": {},
   "outputs": [],
   "source": [
    "df.drop_duplicates(inplace= True)"
   ]
  },
  {
   "cell_type": "code",
   "execution_count": 105,
   "id": "cf62bbdc",
   "metadata": {},
   "outputs": [],
   "source": [
    "df.drop([\"ID\"],inplace=True,axis=1)"
   ]
  },
  {
   "cell_type": "code",
   "execution_count": null,
   "id": "03242b4a",
   "metadata": {},
   "outputs": [],
   "source": []
  },
  {
   "cell_type": "code",
   "execution_count": 106,
   "id": "e6efb559",
   "metadata": {},
   "outputs": [
    {
     "data": {
      "text/plain": [
       "<AxesSubplot:ylabel='Price'>"
      ]
     },
     "execution_count": 106,
     "metadata": {},
     "output_type": "execute_result"
    },
    {
     "data": {
      "image/png": "[encoded data removed]",
      "text/plain": [
       "<Figure size 864x720 with 1 Axes>"
      ]
     },
     "metadata": {},
     "output_type": "display_data"
    }
   ],
   "source": [
    "sns.boxplot(y='Price',data=df)"
   ]
  },
  {
   "cell_type": "code",
   "execution_count": 107,
   "id": "846121e4",
   "metadata": {},
   "outputs": [
    {
     "name": "stdout",
     "output_type": "stream",
     "text": [
      "1055\n"
     ]
    }
   ],
   "source": [
    "from datasist.structdata import detect_outliers\n",
    "\n",
    "out_lier=detect_outliers(df,0,['Price'])\n",
    "print(len( out_lier))\n",
    "df.drop(out_lier,inplace=True)"
   ]
  },
  {
   "cell_type": "code",
   "execution_count": 108,
   "id": "a9a56bcd",
   "metadata": {},
   "outputs": [
    {
     "data": {
      "text/plain": [
       "<AxesSubplot:ylabel='Price'>"
      ]
     },
     "execution_count": 108,
     "metadata": {},
     "output_type": "execute_result"
    },
    {
     "data": {
      "image/png": "[encoded data removed]",
      "text/plain": [
       "<Figure size 864x720 with 1 Axes>"
      ]
     },
     "metadata": {},
     "output_type": "display_data"
    }
   ],
   "source": [
    "sns.boxplot(y='Price',data=df)"
   ]
  },
  {
   "cell_type": "markdown",
   "id": "5b32a0b9",
   "metadata": {},
   "source": [
    "## Step 3: Visualization the data"
   ]
  },
  {
   "cell_type": "markdown",
   "id": "03b545ab",
   "metadata": {},
   "source": [
    "#### 2)Manufacturer"
   ]
  },
  {
   "cell_type": "code",
   "execution_count": 109,
   "id": "c6c925a0",
   "metadata": {},
   "outputs": [
    {
     "data": {
      "text/plain": [
       "count      17869\n",
       "unique        61\n",
       "top       TOYOTA\n",
       "freq        3502\n",
       "Name: Manufacturer, dtype: object"
      ]
     },
     "execution_count": 109,
     "metadata": {},
     "output_type": "execute_result"
    }
   ],
   "source": [
    "\n",
    "df[\"Manufacturer\"].describe()"
   ]
  },
  {
   "cell_type": "code",
   "execution_count": 110,
   "id": "6bfe56be",
   "metadata": {},
   "outputs": [
    {
     "name": "stderr",
     "output_type": "stream",
     "text": [
      "C:\\Users\\MAS\\AppData\\Local\\Programs\\Python\\Python310\\lib\\site-packages\\IPython\\core\\pylabtools.py:151: UserWarning: Glyph 4321 (\\N{GEORGIAN LETTER SAN}) missing from current font.\n",
      "  fig.canvas.print_figure(bytes_io, **kw)\n",
      "C:\\Users\\MAS\\AppData\\Local\\Programs\\Python\\Python310\\lib\\site-packages\\IPython\\core\\pylabtools.py:151: UserWarning: Glyph 4334 (\\N{GEORGIAN LETTER XAN}) missing from current font.\n",
      "  fig.canvas.print_figure(bytes_io, **kw)\n",
      "C:\\Users\\MAS\\AppData\\Local\\Programs\\Python\\Python310\\lib\\site-packages\\IPython\\core\\pylabtools.py:151: UserWarning: Glyph 4309 (\\N{GEORGIAN LETTER VIN}) missing from current font.\n",
      "  fig.canvas.print_figure(bytes_io, **kw)\n",
      "C:\\Users\\MAS\\AppData\\Local\\Programs\\Python\\Python310\\lib\\site-packages\\IPython\\core\\pylabtools.py:151: UserWarning: Glyph 4304 (\\N{GEORGIAN LETTER AN}) missing from current font.\n",
      "  fig.canvas.print_figure(bytes_io, **kw)\n"
     ]
    },
    {
     "data": {
      "image/png": "[encoded data removed]",
      "text/plain": [
       "<Figure size 1800x2520 with 1 Axes>"
      ]
     },
     "metadata": {},
     "output_type": "display_data"
    }
   ],
   "source": [
    "sns.set(rc={'figure.figsize': [25, 35]}, font_scale=1.2,)\n",
    "sns.barplot(y=\"Manufacturer\",x=\"Price\",data=df);"
   ]
  },
  {
   "cell_type": "code",
   "execution_count": 112,
   "id": "5b4ea8ba",
   "metadata": {},
   "outputs": [
    {
     "data": {
      "text/plain": [
       "TOYOTA           3502\n",
       "HYUNDAI          3425\n",
       "MERCEDES-BENZ    1874\n",
       "FORD             1035\n",
       "CHEVROLET        1021\n",
       "BMW               953\n",
       "Name: Manufacturer, dtype: int64"
      ]
     },
     "execution_count": 112,
     "metadata": {},
     "output_type": "execute_result"
    }
   ],
   "source": [
    "co_Manufacturer=df['Manufacturer'].value_counts().head(6)\n",
    "co_Manufacturer"
   ]
  },
  {
   "cell_type": "code",
   "execution_count": 113,
   "id": "f47854c6",
   "metadata": {},
   "outputs": [
    {
     "data": {
      "text/plain": [
       "Index(['TOYOTA', 'HYUNDAI', 'MERCEDES-BENZ', 'FORD', 'CHEVROLET', 'BMW'], dtype='object')"
      ]
     },
     "execution_count": 113,
     "metadata": {},
     "output_type": "execute_result"
    }
   ],
   "source": [
    "Manufacturer=co_Manufacturer.index\n",
    "Manufacturer"
   ]
  },
  {
   "cell_type": "code",
   "execution_count": 114,
   "id": "845690e3",
   "metadata": {},
   "outputs": [],
   "source": [
    "df[\"Manufacturer\"]=df[\"Manufacturer\"].apply(lambda x: x if x in Manufacturer else \"Other\" )"
   ]
  },
  {
   "cell_type": "code",
   "execution_count": 115,
   "id": "6fc92e8b",
   "metadata": {},
   "outputs": [],
   "source": [
    "df=pd.get_dummies(df,columns=[\"Manufacturer\"])"
   ]
  },
  {
   "cell_type": "code",
   "execution_count": 116,
   "id": "e8314ebd",
   "metadata": {},
   "outputs": [
    {
     "data": {
      "text/html": [
       "<div>\n",
       "<style scoped>\n",
       "    .dataframe tbody tr th:only-of-type {\n",
       "        vertical-align: middle;\n",
       "    }\n",
       "\n",
       "    .dataframe tbody tr th {\n",
       "        vertical-align: top;\n",
       "    }\n",
       "\n",
       "    .dataframe thead th {\n",
       "        text-align: right;\n",
       "    }\n",
       "</style>\n",
       "<table border=\"1\" class=\"dataframe\">\n",
       "  <thead>\n",
       "    <tr style=\"text-align: right;\">\n",
       "      <th></th>\n",
       "      <th>Price</th>\n",
       "      <th>Levy</th>\n",
       "      <th>Model</th>\n",
       "      <th>Prod. year</th>\n",
       "      <th>Category</th>\n",
       "      <th>Leather interior</th>\n",
       "      <th>Fuel type</th>\n",
       "      <th>Engine volume</th>\n",
       "      <th>Mileage</th>\n",
       "      <th>Cylinders</th>\n",
       "      <th>...</th>\n",
       "      <th>Wheel</th>\n",
       "      <th>Color</th>\n",
       "      <th>Airbags</th>\n",
       "      <th>Manufacturer_BMW</th>\n",
       "      <th>Manufacturer_CHEVROLET</th>\n",
       "      <th>Manufacturer_FORD</th>\n",
       "      <th>Manufacturer_HYUNDAI</th>\n",
       "      <th>Manufacturer_MERCEDES-BENZ</th>\n",
       "      <th>Manufacturer_Other</th>\n",
       "      <th>Manufacturer_TOYOTA</th>\n",
       "    </tr>\n",
       "  </thead>\n",
       "  <tbody>\n",
       "    <tr>\n",
       "      <th>0</th>\n",
       "      <td>13328</td>\n",
       "      <td>1399</td>\n",
       "      <td>RX 450</td>\n",
       "      <td>2010</td>\n",
       "      <td>Jeep</td>\n",
       "      <td>Yes</td>\n",
       "      <td>Hybrid</td>\n",
       "      <td>3.5</td>\n",
       "      <td>186005 km</td>\n",
       "      <td>6.0</td>\n",
       "      <td>...</td>\n",
       "      <td>Left wheel</td>\n",
       "      <td>Silver</td>\n",
       "      <td>12</td>\n",
       "      <td>0</td>\n",
       "      <td>0</td>\n",
       "      <td>0</td>\n",
       "      <td>0</td>\n",
       "      <td>0</td>\n",
       "      <td>1</td>\n",
       "      <td>0</td>\n",
       "    </tr>\n",
       "    <tr>\n",
       "      <th>1</th>\n",
       "      <td>16621</td>\n",
       "      <td>1018</td>\n",
       "      <td>Equinox</td>\n",
       "      <td>2011</td>\n",
       "      <td>Jeep</td>\n",
       "      <td>No</td>\n",
       "      <td>Petrol</td>\n",
       "      <td>3</td>\n",
       "      <td>192000 km</td>\n",
       "      <td>6.0</td>\n",
       "      <td>...</td>\n",
       "      <td>Left wheel</td>\n",
       "      <td>Black</td>\n",
       "      <td>8</td>\n",
       "      <td>0</td>\n",
       "      <td>1</td>\n",
       "      <td>0</td>\n",
       "      <td>0</td>\n",
       "      <td>0</td>\n",
       "      <td>0</td>\n",
       "      <td>0</td>\n",
       "    </tr>\n",
       "    <tr>\n",
       "      <th>2</th>\n",
       "      <td>8467</td>\n",
       "      <td>-</td>\n",
       "      <td>FIT</td>\n",
       "      <td>2006</td>\n",
       "      <td>Hatchback</td>\n",
       "      <td>No</td>\n",
       "      <td>Petrol</td>\n",
       "      <td>1.3</td>\n",
       "      <td>200000 km</td>\n",
       "      <td>4.0</td>\n",
       "      <td>...</td>\n",
       "      <td>Right-hand drive</td>\n",
       "      <td>Black</td>\n",
       "      <td>2</td>\n",
       "      <td>0</td>\n",
       "      <td>0</td>\n",
       "      <td>0</td>\n",
       "      <td>0</td>\n",
       "      <td>0</td>\n",
       "      <td>1</td>\n",
       "      <td>0</td>\n",
       "    </tr>\n",
       "    <tr>\n",
       "      <th>3</th>\n",
       "      <td>3607</td>\n",
       "      <td>862</td>\n",
       "      <td>Escape</td>\n",
       "      <td>2011</td>\n",
       "      <td>Jeep</td>\n",
       "      <td>Yes</td>\n",
       "      <td>Hybrid</td>\n",
       "      <td>2.5</td>\n",
       "      <td>168966 km</td>\n",
       "      <td>4.0</td>\n",
       "      <td>...</td>\n",
       "      <td>Left wheel</td>\n",
       "      <td>White</td>\n",
       "      <td>0</td>\n",
       "      <td>0</td>\n",
       "      <td>0</td>\n",
       "      <td>1</td>\n",
       "      <td>0</td>\n",
       "      <td>0</td>\n",
       "      <td>0</td>\n",
       "      <td>0</td>\n",
       "    </tr>\n",
       "    <tr>\n",
       "      <th>4</th>\n",
       "      <td>11726</td>\n",
       "      <td>446</td>\n",
       "      <td>FIT</td>\n",
       "      <td>2014</td>\n",
       "      <td>Hatchback</td>\n",
       "      <td>Yes</td>\n",
       "      <td>Petrol</td>\n",
       "      <td>1.3</td>\n",
       "      <td>91901 km</td>\n",
       "      <td>4.0</td>\n",
       "      <td>...</td>\n",
       "      <td>Left wheel</td>\n",
       "      <td>Silver</td>\n",
       "      <td>4</td>\n",
       "      <td>0</td>\n",
       "      <td>0</td>\n",
       "      <td>0</td>\n",
       "      <td>0</td>\n",
       "      <td>0</td>\n",
       "      <td>1</td>\n",
       "      <td>0</td>\n",
       "    </tr>\n",
       "    <tr>\n",
       "      <th>...</th>\n",
       "      <td>...</td>\n",
       "      <td>...</td>\n",
       "      <td>...</td>\n",
       "      <td>...</td>\n",
       "      <td>...</td>\n",
       "      <td>...</td>\n",
       "      <td>...</td>\n",
       "      <td>...</td>\n",
       "      <td>...</td>\n",
       "      <td>...</td>\n",
       "      <td>...</td>\n",
       "      <td>...</td>\n",
       "      <td>...</td>\n",
       "      <td>...</td>\n",
       "      <td>...</td>\n",
       "      <td>...</td>\n",
       "      <td>...</td>\n",
       "      <td>...</td>\n",
       "      <td>...</td>\n",
       "      <td>...</td>\n",
       "      <td>...</td>\n",
       "    </tr>\n",
       "    <tr>\n",
       "      <th>19232</th>\n",
       "      <td>8467</td>\n",
       "      <td>-</td>\n",
       "      <td>CLK 200</td>\n",
       "      <td>1999</td>\n",
       "      <td>Coupe</td>\n",
       "      <td>Yes</td>\n",
       "      <td>CNG</td>\n",
       "      <td>2.0 Turbo</td>\n",
       "      <td>300000 km</td>\n",
       "      <td>4.0</td>\n",
       "      <td>...</td>\n",
       "      <td>Left wheel</td>\n",
       "      <td>Silver</td>\n",
       "      <td>5</td>\n",
       "      <td>0</td>\n",
       "      <td>0</td>\n",
       "      <td>0</td>\n",
       "      <td>0</td>\n",
       "      <td>1</td>\n",
       "      <td>0</td>\n",
       "      <td>0</td>\n",
       "    </tr>\n",
       "    <tr>\n",
       "      <th>19233</th>\n",
       "      <td>15681</td>\n",
       "      <td>831</td>\n",
       "      <td>Sonata</td>\n",
       "      <td>2011</td>\n",
       "      <td>Sedan</td>\n",
       "      <td>Yes</td>\n",
       "      <td>Petrol</td>\n",
       "      <td>2.4</td>\n",
       "      <td>161600 km</td>\n",
       "      <td>4.0</td>\n",
       "      <td>...</td>\n",
       "      <td>Left wheel</td>\n",
       "      <td>Red</td>\n",
       "      <td>8</td>\n",
       "      <td>0</td>\n",
       "      <td>0</td>\n",
       "      <td>0</td>\n",
       "      <td>1</td>\n",
       "      <td>0</td>\n",
       "      <td>0</td>\n",
       "      <td>0</td>\n",
       "    </tr>\n",
       "    <tr>\n",
       "      <th>19234</th>\n",
       "      <td>26108</td>\n",
       "      <td>836</td>\n",
       "      <td>Tucson</td>\n",
       "      <td>2010</td>\n",
       "      <td>Jeep</td>\n",
       "      <td>Yes</td>\n",
       "      <td>Diesel</td>\n",
       "      <td>2</td>\n",
       "      <td>116365 km</td>\n",
       "      <td>4.0</td>\n",
       "      <td>...</td>\n",
       "      <td>Left wheel</td>\n",
       "      <td>Grey</td>\n",
       "      <td>4</td>\n",
       "      <td>0</td>\n",
       "      <td>0</td>\n",
       "      <td>0</td>\n",
       "      <td>1</td>\n",
       "      <td>0</td>\n",
       "      <td>0</td>\n",
       "      <td>0</td>\n",
       "    </tr>\n",
       "    <tr>\n",
       "      <th>19235</th>\n",
       "      <td>5331</td>\n",
       "      <td>1288</td>\n",
       "      <td>Captiva</td>\n",
       "      <td>2007</td>\n",
       "      <td>Jeep</td>\n",
       "      <td>Yes</td>\n",
       "      <td>Diesel</td>\n",
       "      <td>2</td>\n",
       "      <td>51258 km</td>\n",
       "      <td>4.0</td>\n",
       "      <td>...</td>\n",
       "      <td>Left wheel</td>\n",
       "      <td>Black</td>\n",
       "      <td>4</td>\n",
       "      <td>0</td>\n",
       "      <td>1</td>\n",
       "      <td>0</td>\n",
       "      <td>0</td>\n",
       "      <td>0</td>\n",
       "      <td>0</td>\n",
       "      <td>0</td>\n",
       "    </tr>\n",
       "    <tr>\n",
       "      <th>19236</th>\n",
       "      <td>470</td>\n",
       "      <td>753</td>\n",
       "      <td>Sonata</td>\n",
       "      <td>2012</td>\n",
       "      <td>Sedan</td>\n",
       "      <td>Yes</td>\n",
       "      <td>Hybrid</td>\n",
       "      <td>2.4</td>\n",
       "      <td>186923 km</td>\n",
       "      <td>4.0</td>\n",
       "      <td>...</td>\n",
       "      <td>Left wheel</td>\n",
       "      <td>White</td>\n",
       "      <td>12</td>\n",
       "      <td>0</td>\n",
       "      <td>0</td>\n",
       "      <td>0</td>\n",
       "      <td>1</td>\n",
       "      <td>0</td>\n",
       "      <td>0</td>\n",
       "      <td>0</td>\n",
       "    </tr>\n",
       "  </tbody>\n",
       "</table>\n",
       "<p>17869 rows × 23 columns</p>\n",
       "</div>"
      ],
      "text/plain": [
       "       Price  Levy    Model  Prod. year   Category Leather interior Fuel type  \\\n",
       "0      13328  1399   RX 450        2010       Jeep              Yes    Hybrid   \n",
       "1      16621  1018  Equinox        2011       Jeep               No    Petrol   \n",
       "2       8467     -      FIT        2006  Hatchback               No    Petrol   \n",
       "3       3607   862   Escape        2011       Jeep              Yes    Hybrid   \n",
       "4      11726   446      FIT        2014  Hatchback              Yes    Petrol   \n",
       "...      ...   ...      ...         ...        ...              ...       ...   \n",
       "19232   8467     -  CLK 200        1999      Coupe              Yes       CNG   \n",
       "19233  15681   831   Sonata        2011      Sedan              Yes    Petrol   \n",
       "19234  26108   836   Tucson        2010       Jeep              Yes    Diesel   \n",
       "19235   5331  1288  Captiva        2007       Jeep              Yes    Diesel   \n",
       "19236    470   753   Sonata        2012      Sedan              Yes    Hybrid   \n",
       "\n",
       "      Engine volume    Mileage  Cylinders  ...             Wheel   Color  \\\n",
       "0               3.5  186005 km        6.0  ...        Left wheel  Silver   \n",
       "1                 3  192000 km        6.0  ...        Left wheel   Black   \n",
       "2               1.3  200000 km        4.0  ...  Right-hand drive   Black   \n",
       "3               2.5  168966 km        4.0  ...        Left wheel   White   \n",
       "4               1.3   91901 km        4.0  ...        Left wheel  Silver   \n",
       "...             ...        ...        ...  ...               ...     ...   \n",
       "19232     2.0 Turbo  300000 km        4.0  ...        Left wheel  Silver   \n",
       "19233           2.4  161600 km        4.0  ...        Left wheel     Red   \n",
       "19234             2  116365 km        4.0  ...        Left wheel    Grey   \n",
       "19235             2   51258 km        4.0  ...        Left wheel   Black   \n",
       "19236           2.4  186923 km        4.0  ...        Left wheel   White   \n",
       "\n",
       "      Airbags Manufacturer_BMW Manufacturer_CHEVROLET  Manufacturer_FORD  \\\n",
       "0          12                0                      0                  0   \n",
       "1           8                0                      1                  0   \n",
       "2           2                0                      0                  0   \n",
       "3           0                0                      0                  1   \n",
       "4           4                0                      0                  0   \n",
       "...       ...              ...                    ...                ...   \n",
       "19232       5                0                      0                  0   \n",
       "19233       8                0                      0                  0   \n",
       "19234       4                0                      0                  0   \n",
       "19235       4                0                      1                  0   \n",
       "19236      12                0                      0                  0   \n",
       "\n",
       "       Manufacturer_HYUNDAI  Manufacturer_MERCEDES-BENZ  Manufacturer_Other  \\\n",
       "0                         0                           0                   1   \n",
       "1                         0                           0                   0   \n",
       "2                         0                           0                   1   \n",
       "3                         0                           0                   0   \n",
       "4                         0                           0                   1   \n",
       "...                     ...                         ...                 ...   \n",
       "19232                     0                           1                   0   \n",
       "19233                     1                           0                   0   \n",
       "19234                     1                           0                   0   \n",
       "19235                     0                           0                   0   \n",
       "19236                     1                           0                   0   \n",
       "\n",
       "       Manufacturer_TOYOTA  \n",
       "0                        0  \n",
       "1                        0  \n",
       "2                        0  \n",
       "3                        0  \n",
       "4                        0  \n",
       "...                    ...  \n",
       "19232                    0  \n",
       "19233                    0  \n",
       "19234                    0  \n",
       "19235                    0  \n",
       "19236                    0  \n",
       "\n",
       "[17869 rows x 23 columns]"
      ]
     },
     "execution_count": 116,
     "metadata": {},
     "output_type": "execute_result"
    }
   ],
   "source": [
    "df"
   ]
  },
  {
   "cell_type": "markdown",
   "id": "6d67b20d",
   "metadata": {},
   "source": [
    "#### 4)Model ,5) Levy"
   ]
  },
  {
   "cell_type": "code",
   "execution_count": 117,
   "id": "cccd31ef",
   "metadata": {},
   "outputs": [
    {
     "data": {
      "text/plain": [
       "count     17869\n",
       "unique     1498\n",
       "top       Prius\n",
       "freq       1068\n",
       "Name: Model, dtype: object"
      ]
     },
     "execution_count": 117,
     "metadata": {},
     "output_type": "execute_result"
    }
   ],
   "source": [
    "df[\"Model\"].describe()"
   ]
  },
  {
   "cell_type": "code",
   "execution_count": 118,
   "id": "f384efe2",
   "metadata": {},
   "outputs": [],
   "source": [
    "df.drop([\"Model\"],inplace=True,axis=1)"
   ]
  },
  {
   "cell_type": "code",
   "execution_count": 119,
   "id": "c4f33d01",
   "metadata": {},
   "outputs": [],
   "source": [
    "df.drop([\"Levy\"],inplace=True,axis=1)"
   ]
  },
  {
   "cell_type": "markdown",
   "id": "bd869efa",
   "metadata": {},
   "source": [
    "#### 6)Engine volume"
   ]
  },
  {
   "cell_type": "code",
   "execution_count": 120,
   "id": "d76e4d7b",
   "metadata": {},
   "outputs": [
    {
     "data": {
      "text/plain": [
       "0       -1\n",
       "1       -1\n",
       "2       -1\n",
       "3       -1\n",
       "4       -1\n",
       "        ..\n",
       "19232    4\n",
       "19233   -1\n",
       "19234   -1\n",
       "19235   -1\n",
       "19236   -1\n",
       "Name: Engine volume, Length: 17869, dtype: int64"
      ]
     },
     "execution_count": 120,
     "metadata": {},
     "output_type": "execute_result"
    }
   ],
   "source": [
    "df[\"Engine volume\"].str.find(\"Turbo\")"
   ]
  },
  {
   "cell_type": "code",
   "execution_count": 121,
   "id": "7630928e",
   "metadata": {},
   "outputs": [],
   "source": [
    "a=df[df[\"Engine volume\"].str.contains(\"Turbo\")]"
   ]
  },
  {
   "cell_type": "code",
   "execution_count": 122,
   "id": "f18fd759",
   "metadata": {},
   "outputs": [
    {
     "data": {
      "text/html": [
       "<div>\n",
       "<style scoped>\n",
       "    .dataframe tbody tr th:only-of-type {\n",
       "        vertical-align: middle;\n",
       "    }\n",
       "\n",
       "    .dataframe tbody tr th {\n",
       "        vertical-align: top;\n",
       "    }\n",
       "\n",
       "    .dataframe thead th {\n",
       "        text-align: right;\n",
       "    }\n",
       "</style>\n",
       "<table border=\"1\" class=\"dataframe\">\n",
       "  <thead>\n",
       "    <tr style=\"text-align: right;\">\n",
       "      <th></th>\n",
       "      <th>Price</th>\n",
       "      <th>Prod. year</th>\n",
       "      <th>Category</th>\n",
       "      <th>Leather interior</th>\n",
       "      <th>Fuel type</th>\n",
       "      <th>Engine volume</th>\n",
       "      <th>Mileage</th>\n",
       "      <th>Cylinders</th>\n",
       "      <th>Gear box type</th>\n",
       "      <th>Drive wheels</th>\n",
       "      <th>...</th>\n",
       "      <th>Wheel</th>\n",
       "      <th>Color</th>\n",
       "      <th>Airbags</th>\n",
       "      <th>Manufacturer_BMW</th>\n",
       "      <th>Manufacturer_CHEVROLET</th>\n",
       "      <th>Manufacturer_FORD</th>\n",
       "      <th>Manufacturer_HYUNDAI</th>\n",
       "      <th>Manufacturer_MERCEDES-BENZ</th>\n",
       "      <th>Manufacturer_Other</th>\n",
       "      <th>Manufacturer_TOYOTA</th>\n",
       "    </tr>\n",
       "  </thead>\n",
       "  <tbody>\n",
       "    <tr>\n",
       "      <th>23</th>\n",
       "      <td>7840</td>\n",
       "      <td>2001</td>\n",
       "      <td>Microbus</td>\n",
       "      <td>No</td>\n",
       "      <td>Diesel</td>\n",
       "      <td>2.0 Turbo</td>\n",
       "      <td>230000 km</td>\n",
       "      <td>4.0</td>\n",
       "      <td>Manual</td>\n",
       "      <td>Front</td>\n",
       "      <td>...</td>\n",
       "      <td>Left wheel</td>\n",
       "      <td>White</td>\n",
       "      <td>0</td>\n",
       "      <td>0</td>\n",
       "      <td>0</td>\n",
       "      <td>1</td>\n",
       "      <td>0</td>\n",
       "      <td>0</td>\n",
       "      <td>0</td>\n",
       "      <td>0</td>\n",
       "    </tr>\n",
       "    <tr>\n",
       "      <th>25</th>\n",
       "      <td>20385</td>\n",
       "      <td>2006</td>\n",
       "      <td>Sedan</td>\n",
       "      <td>Yes</td>\n",
       "      <td>Diesel</td>\n",
       "      <td>2.2 Turbo</td>\n",
       "      <td>210000 km</td>\n",
       "      <td>4.0</td>\n",
       "      <td>Tiptronic</td>\n",
       "      <td>Rear</td>\n",
       "      <td>...</td>\n",
       "      <td>Left wheel</td>\n",
       "      <td>Black</td>\n",
       "      <td>8</td>\n",
       "      <td>0</td>\n",
       "      <td>0</td>\n",
       "      <td>0</td>\n",
       "      <td>0</td>\n",
       "      <td>1</td>\n",
       "      <td>0</td>\n",
       "      <td>0</td>\n",
       "    </tr>\n",
       "    <tr>\n",
       "      <th>30</th>\n",
       "      <td>15681</td>\n",
       "      <td>2007</td>\n",
       "      <td>Goods wagon</td>\n",
       "      <td>No</td>\n",
       "      <td>Diesel</td>\n",
       "      <td>2.0 Turbo</td>\n",
       "      <td>180000 km</td>\n",
       "      <td>6.0</td>\n",
       "      <td>Manual</td>\n",
       "      <td>Rear</td>\n",
       "      <td>...</td>\n",
       "      <td>Left wheel</td>\n",
       "      <td>White</td>\n",
       "      <td>4</td>\n",
       "      <td>0</td>\n",
       "      <td>0</td>\n",
       "      <td>0</td>\n",
       "      <td>0</td>\n",
       "      <td>1</td>\n",
       "      <td>0</td>\n",
       "      <td>0</td>\n",
       "    </tr>\n",
       "    <tr>\n",
       "      <th>34</th>\n",
       "      <td>24462</td>\n",
       "      <td>2007</td>\n",
       "      <td>Jeep</td>\n",
       "      <td>Yes</td>\n",
       "      <td>Diesel</td>\n",
       "      <td>3.0 Turbo</td>\n",
       "      <td>250000 km</td>\n",
       "      <td>6.0</td>\n",
       "      <td>Tiptronic</td>\n",
       "      <td>4x4</td>\n",
       "      <td>...</td>\n",
       "      <td>Left wheel</td>\n",
       "      <td>Black</td>\n",
       "      <td>10</td>\n",
       "      <td>0</td>\n",
       "      <td>0</td>\n",
       "      <td>0</td>\n",
       "      <td>0</td>\n",
       "      <td>0</td>\n",
       "      <td>1</td>\n",
       "      <td>0</td>\n",
       "    </tr>\n",
       "    <tr>\n",
       "      <th>42</th>\n",
       "      <td>20165</td>\n",
       "      <td>2016</td>\n",
       "      <td>Sedan</td>\n",
       "      <td>Yes</td>\n",
       "      <td>Petrol</td>\n",
       "      <td>1.4 Turbo</td>\n",
       "      <td>11200 km</td>\n",
       "      <td>4.0</td>\n",
       "      <td>Tiptronic</td>\n",
       "      <td>Front</td>\n",
       "      <td>...</td>\n",
       "      <td>Left wheel</td>\n",
       "      <td>Black</td>\n",
       "      <td>8</td>\n",
       "      <td>0</td>\n",
       "      <td>0</td>\n",
       "      <td>0</td>\n",
       "      <td>0</td>\n",
       "      <td>0</td>\n",
       "      <td>1</td>\n",
       "      <td>0</td>\n",
       "    </tr>\n",
       "    <tr>\n",
       "      <th>...</th>\n",
       "      <td>...</td>\n",
       "      <td>...</td>\n",
       "      <td>...</td>\n",
       "      <td>...</td>\n",
       "      <td>...</td>\n",
       "      <td>...</td>\n",
       "      <td>...</td>\n",
       "      <td>...</td>\n",
       "      <td>...</td>\n",
       "      <td>...</td>\n",
       "      <td>...</td>\n",
       "      <td>...</td>\n",
       "      <td>...</td>\n",
       "      <td>...</td>\n",
       "      <td>...</td>\n",
       "      <td>...</td>\n",
       "      <td>...</td>\n",
       "      <td>...</td>\n",
       "      <td>...</td>\n",
       "      <td>...</td>\n",
       "      <td>...</td>\n",
       "    </tr>\n",
       "    <tr>\n",
       "      <th>19167</th>\n",
       "      <td>18817</td>\n",
       "      <td>2003</td>\n",
       "      <td>Microbus</td>\n",
       "      <td>No</td>\n",
       "      <td>Diesel</td>\n",
       "      <td>2.4 Turbo</td>\n",
       "      <td>2147483647 km</td>\n",
       "      <td>4.0</td>\n",
       "      <td>Manual</td>\n",
       "      <td>Front</td>\n",
       "      <td>...</td>\n",
       "      <td>Left wheel</td>\n",
       "      <td>White</td>\n",
       "      <td>2</td>\n",
       "      <td>0</td>\n",
       "      <td>0</td>\n",
       "      <td>1</td>\n",
       "      <td>0</td>\n",
       "      <td>0</td>\n",
       "      <td>0</td>\n",
       "      <td>0</td>\n",
       "    </tr>\n",
       "    <tr>\n",
       "      <th>19170</th>\n",
       "      <td>10976</td>\n",
       "      <td>2001</td>\n",
       "      <td>Sedan</td>\n",
       "      <td>No</td>\n",
       "      <td>Diesel</td>\n",
       "      <td>2.2 Turbo</td>\n",
       "      <td>320000 km</td>\n",
       "      <td>5.0</td>\n",
       "      <td>Automatic</td>\n",
       "      <td>Rear</td>\n",
       "      <td>...</td>\n",
       "      <td>Left wheel</td>\n",
       "      <td>Silver</td>\n",
       "      <td>4</td>\n",
       "      <td>0</td>\n",
       "      <td>0</td>\n",
       "      <td>0</td>\n",
       "      <td>0</td>\n",
       "      <td>1</td>\n",
       "      <td>0</td>\n",
       "      <td>0</td>\n",
       "    </tr>\n",
       "    <tr>\n",
       "      <th>19190</th>\n",
       "      <td>24462</td>\n",
       "      <td>2012</td>\n",
       "      <td>Sedan</td>\n",
       "      <td>Yes</td>\n",
       "      <td>Petrol</td>\n",
       "      <td>2.0 Turbo</td>\n",
       "      <td>96966 km</td>\n",
       "      <td>4.0</td>\n",
       "      <td>Tiptronic</td>\n",
       "      <td>Rear</td>\n",
       "      <td>...</td>\n",
       "      <td>Left wheel</td>\n",
       "      <td>Black</td>\n",
       "      <td>12</td>\n",
       "      <td>1</td>\n",
       "      <td>0</td>\n",
       "      <td>0</td>\n",
       "      <td>0</td>\n",
       "      <td>0</td>\n",
       "      <td>0</td>\n",
       "      <td>0</td>\n",
       "    </tr>\n",
       "    <tr>\n",
       "      <th>19225</th>\n",
       "      <td>8781</td>\n",
       "      <td>2007</td>\n",
       "      <td>Goods wagon</td>\n",
       "      <td>No</td>\n",
       "      <td>Diesel</td>\n",
       "      <td>1.7 Turbo</td>\n",
       "      <td>236000 km</td>\n",
       "      <td>4.0</td>\n",
       "      <td>Manual</td>\n",
       "      <td>Front</td>\n",
       "      <td>...</td>\n",
       "      <td>Left wheel</td>\n",
       "      <td>Beige</td>\n",
       "      <td>4</td>\n",
       "      <td>0</td>\n",
       "      <td>0</td>\n",
       "      <td>0</td>\n",
       "      <td>0</td>\n",
       "      <td>0</td>\n",
       "      <td>1</td>\n",
       "      <td>0</td>\n",
       "    </tr>\n",
       "    <tr>\n",
       "      <th>19232</th>\n",
       "      <td>8467</td>\n",
       "      <td>1999</td>\n",
       "      <td>Coupe</td>\n",
       "      <td>Yes</td>\n",
       "      <td>CNG</td>\n",
       "      <td>2.0 Turbo</td>\n",
       "      <td>300000 km</td>\n",
       "      <td>4.0</td>\n",
       "      <td>Manual</td>\n",
       "      <td>Rear</td>\n",
       "      <td>...</td>\n",
       "      <td>Left wheel</td>\n",
       "      <td>Silver</td>\n",
       "      <td>5</td>\n",
       "      <td>0</td>\n",
       "      <td>0</td>\n",
       "      <td>0</td>\n",
       "      <td>0</td>\n",
       "      <td>1</td>\n",
       "      <td>0</td>\n",
       "      <td>0</td>\n",
       "    </tr>\n",
       "  </tbody>\n",
       "</table>\n",
       "<p>1651 rows × 21 columns</p>\n",
       "</div>"
      ],
      "text/plain": [
       "       Price  Prod. year     Category Leather interior Fuel type  \\\n",
       "23      7840        2001     Microbus               No    Diesel   \n",
       "25     20385        2006        Sedan              Yes    Diesel   \n",
       "30     15681        2007  Goods wagon               No    Diesel   \n",
       "34     24462        2007         Jeep              Yes    Diesel   \n",
       "42     20165        2016        Sedan              Yes    Petrol   \n",
       "...      ...         ...          ...              ...       ...   \n",
       "19167  18817        2003     Microbus               No    Diesel   \n",
       "19170  10976        2001        Sedan               No    Diesel   \n",
       "19190  24462        2012        Sedan              Yes    Petrol   \n",
       "19225   8781        2007  Goods wagon               No    Diesel   \n",
       "19232   8467        1999        Coupe              Yes       CNG   \n",
       "\n",
       "      Engine volume        Mileage  Cylinders Gear box type Drive wheels  ...  \\\n",
       "23        2.0 Turbo      230000 km        4.0        Manual        Front  ...   \n",
       "25        2.2 Turbo      210000 km        4.0     Tiptronic         Rear  ...   \n",
       "30        2.0 Turbo      180000 km        6.0        Manual         Rear  ...   \n",
       "34        3.0 Turbo      250000 km        6.0     Tiptronic          4x4  ...   \n",
       "42        1.4 Turbo       11200 km        4.0     Tiptronic        Front  ...   \n",
       "...             ...            ...        ...           ...          ...  ...   \n",
       "19167     2.4 Turbo  2147483647 km        4.0        Manual        Front  ...   \n",
       "19170     2.2 Turbo      320000 km        5.0     Automatic         Rear  ...   \n",
       "19190     2.0 Turbo       96966 km        4.0     Tiptronic         Rear  ...   \n",
       "19225     1.7 Turbo      236000 km        4.0        Manual        Front  ...   \n",
       "19232     2.0 Turbo      300000 km        4.0        Manual         Rear  ...   \n",
       "\n",
       "            Wheel   Color Airbags  Manufacturer_BMW  Manufacturer_CHEVROLET  \\\n",
       "23     Left wheel   White       0                 0                       0   \n",
       "25     Left wheel   Black       8                 0                       0   \n",
       "30     Left wheel   White       4                 0                       0   \n",
       "34     Left wheel   Black      10                 0                       0   \n",
       "42     Left wheel   Black       8                 0                       0   \n",
       "...           ...     ...     ...               ...                     ...   \n",
       "19167  Left wheel   White       2                 0                       0   \n",
       "19170  Left wheel  Silver       4                 0                       0   \n",
       "19190  Left wheel   Black      12                 1                       0   \n",
       "19225  Left wheel   Beige       4                 0                       0   \n",
       "19232  Left wheel  Silver       5                 0                       0   \n",
       "\n",
       "       Manufacturer_FORD  Manufacturer_HYUNDAI  Manufacturer_MERCEDES-BENZ  \\\n",
       "23                     1                     0                           0   \n",
       "25                     0                     0                           1   \n",
       "30                     0                     0                           1   \n",
       "34                     0                     0                           0   \n",
       "42                     0                     0                           0   \n",
       "...                  ...                   ...                         ...   \n",
       "19167                  1                     0                           0   \n",
       "19170                  0                     0                           1   \n",
       "19190                  0                     0                           0   \n",
       "19225                  0                     0                           0   \n",
       "19232                  0                     0                           1   \n",
       "\n",
       "       Manufacturer_Other  Manufacturer_TOYOTA  \n",
       "23                      0                    0  \n",
       "25                      0                    0  \n",
       "30                      0                    0  \n",
       "34                      1                    0  \n",
       "42                      1                    0  \n",
       "...                   ...                  ...  \n",
       "19167                   0                    0  \n",
       "19170                   0                    0  \n",
       "19190                   0                    0  \n",
       "19225                   1                    0  \n",
       "19232                   0                    0  \n",
       "\n",
       "[1651 rows x 21 columns]"
      ]
     },
     "execution_count": 122,
     "metadata": {},
     "output_type": "execute_result"
    }
   ],
   "source": [
    "a"
   ]
  },
  {
   "cell_type": "code",
   "execution_count": 123,
   "id": "862e586a",
   "metadata": {},
   "outputs": [],
   "source": [
    "df[\"Turbo\"]=1\n",
    "df[\"Turbo\"].where(df[\"Engine volume\"].str.contains(\"Turbo\"),0,inplace=True)"
   ]
  },
  {
   "cell_type": "code",
   "execution_count": 124,
   "id": "c65bd1d0",
   "metadata": {},
   "outputs": [
    {
     "data": {
      "text/html": [
       "<div>\n",
       "<style scoped>\n",
       "    .dataframe tbody tr th:only-of-type {\n",
       "        vertical-align: middle;\n",
       "    }\n",
       "\n",
       "    .dataframe tbody tr th {\n",
       "        vertical-align: top;\n",
       "    }\n",
       "\n",
       "    .dataframe thead th {\n",
       "        text-align: right;\n",
       "    }\n",
       "</style>\n",
       "<table border=\"1\" class=\"dataframe\">\n",
       "  <thead>\n",
       "    <tr style=\"text-align: right;\">\n",
       "      <th></th>\n",
       "      <th>Price</th>\n",
       "      <th>Prod. year</th>\n",
       "      <th>Category</th>\n",
       "      <th>Leather interior</th>\n",
       "      <th>Fuel type</th>\n",
       "      <th>Engine volume</th>\n",
       "      <th>Mileage</th>\n",
       "      <th>Cylinders</th>\n",
       "      <th>Gear box type</th>\n",
       "      <th>Drive wheels</th>\n",
       "      <th>...</th>\n",
       "      <th>Color</th>\n",
       "      <th>Airbags</th>\n",
       "      <th>Manufacturer_BMW</th>\n",
       "      <th>Manufacturer_CHEVROLET</th>\n",
       "      <th>Manufacturer_FORD</th>\n",
       "      <th>Manufacturer_HYUNDAI</th>\n",
       "      <th>Manufacturer_MERCEDES-BENZ</th>\n",
       "      <th>Manufacturer_Other</th>\n",
       "      <th>Manufacturer_TOYOTA</th>\n",
       "      <th>Turbo</th>\n",
       "    </tr>\n",
       "  </thead>\n",
       "  <tbody>\n",
       "    <tr>\n",
       "      <th>0</th>\n",
       "      <td>13328</td>\n",
       "      <td>2010</td>\n",
       "      <td>Jeep</td>\n",
       "      <td>Yes</td>\n",
       "      <td>Hybrid</td>\n",
       "      <td>3.5</td>\n",
       "      <td>186005 km</td>\n",
       "      <td>6.0</td>\n",
       "      <td>Automatic</td>\n",
       "      <td>4x4</td>\n",
       "      <td>...</td>\n",
       "      <td>Silver</td>\n",
       "      <td>12</td>\n",
       "      <td>0</td>\n",
       "      <td>0</td>\n",
       "      <td>0</td>\n",
       "      <td>0</td>\n",
       "      <td>0</td>\n",
       "      <td>1</td>\n",
       "      <td>0</td>\n",
       "      <td>0</td>\n",
       "    </tr>\n",
       "    <tr>\n",
       "      <th>1</th>\n",
       "      <td>16621</td>\n",
       "      <td>2011</td>\n",
       "      <td>Jeep</td>\n",
       "      <td>No</td>\n",
       "      <td>Petrol</td>\n",
       "      <td>3</td>\n",
       "      <td>192000 km</td>\n",
       "      <td>6.0</td>\n",
       "      <td>Tiptronic</td>\n",
       "      <td>4x4</td>\n",
       "      <td>...</td>\n",
       "      <td>Black</td>\n",
       "      <td>8</td>\n",
       "      <td>0</td>\n",
       "      <td>1</td>\n",
       "      <td>0</td>\n",
       "      <td>0</td>\n",
       "      <td>0</td>\n",
       "      <td>0</td>\n",
       "      <td>0</td>\n",
       "      <td>0</td>\n",
       "    </tr>\n",
       "    <tr>\n",
       "      <th>2</th>\n",
       "      <td>8467</td>\n",
       "      <td>2006</td>\n",
       "      <td>Hatchback</td>\n",
       "      <td>No</td>\n",
       "      <td>Petrol</td>\n",
       "      <td>1.3</td>\n",
       "      <td>200000 km</td>\n",
       "      <td>4.0</td>\n",
       "      <td>Variator</td>\n",
       "      <td>Front</td>\n",
       "      <td>...</td>\n",
       "      <td>Black</td>\n",
       "      <td>2</td>\n",
       "      <td>0</td>\n",
       "      <td>0</td>\n",
       "      <td>0</td>\n",
       "      <td>0</td>\n",
       "      <td>0</td>\n",
       "      <td>1</td>\n",
       "      <td>0</td>\n",
       "      <td>0</td>\n",
       "    </tr>\n",
       "    <tr>\n",
       "      <th>3</th>\n",
       "      <td>3607</td>\n",
       "      <td>2011</td>\n",
       "      <td>Jeep</td>\n",
       "      <td>Yes</td>\n",
       "      <td>Hybrid</td>\n",
       "      <td>2.5</td>\n",
       "      <td>168966 km</td>\n",
       "      <td>4.0</td>\n",
       "      <td>Automatic</td>\n",
       "      <td>4x4</td>\n",
       "      <td>...</td>\n",
       "      <td>White</td>\n",
       "      <td>0</td>\n",
       "      <td>0</td>\n",
       "      <td>0</td>\n",
       "      <td>1</td>\n",
       "      <td>0</td>\n",
       "      <td>0</td>\n",
       "      <td>0</td>\n",
       "      <td>0</td>\n",
       "      <td>0</td>\n",
       "    </tr>\n",
       "    <tr>\n",
       "      <th>4</th>\n",
       "      <td>11726</td>\n",
       "      <td>2014</td>\n",
       "      <td>Hatchback</td>\n",
       "      <td>Yes</td>\n",
       "      <td>Petrol</td>\n",
       "      <td>1.3</td>\n",
       "      <td>91901 km</td>\n",
       "      <td>4.0</td>\n",
       "      <td>Automatic</td>\n",
       "      <td>Front</td>\n",
       "      <td>...</td>\n",
       "      <td>Silver</td>\n",
       "      <td>4</td>\n",
       "      <td>0</td>\n",
       "      <td>0</td>\n",
       "      <td>0</td>\n",
       "      <td>0</td>\n",
       "      <td>0</td>\n",
       "      <td>1</td>\n",
       "      <td>0</td>\n",
       "      <td>0</td>\n",
       "    </tr>\n",
       "    <tr>\n",
       "      <th>...</th>\n",
       "      <td>...</td>\n",
       "      <td>...</td>\n",
       "      <td>...</td>\n",
       "      <td>...</td>\n",
       "      <td>...</td>\n",
       "      <td>...</td>\n",
       "      <td>...</td>\n",
       "      <td>...</td>\n",
       "      <td>...</td>\n",
       "      <td>...</td>\n",
       "      <td>...</td>\n",
       "      <td>...</td>\n",
       "      <td>...</td>\n",
       "      <td>...</td>\n",
       "      <td>...</td>\n",
       "      <td>...</td>\n",
       "      <td>...</td>\n",
       "      <td>...</td>\n",
       "      <td>...</td>\n",
       "      <td>...</td>\n",
       "      <td>...</td>\n",
       "    </tr>\n",
       "    <tr>\n",
       "      <th>19232</th>\n",
       "      <td>8467</td>\n",
       "      <td>1999</td>\n",
       "      <td>Coupe</td>\n",
       "      <td>Yes</td>\n",
       "      <td>CNG</td>\n",
       "      <td>2.0 Turbo</td>\n",
       "      <td>300000 km</td>\n",
       "      <td>4.0</td>\n",
       "      <td>Manual</td>\n",
       "      <td>Rear</td>\n",
       "      <td>...</td>\n",
       "      <td>Silver</td>\n",
       "      <td>5</td>\n",
       "      <td>0</td>\n",
       "      <td>0</td>\n",
       "      <td>0</td>\n",
       "      <td>0</td>\n",
       "      <td>1</td>\n",
       "      <td>0</td>\n",
       "      <td>0</td>\n",
       "      <td>1</td>\n",
       "    </tr>\n",
       "    <tr>\n",
       "      <th>19233</th>\n",
       "      <td>15681</td>\n",
       "      <td>2011</td>\n",
       "      <td>Sedan</td>\n",
       "      <td>Yes</td>\n",
       "      <td>Petrol</td>\n",
       "      <td>2.4</td>\n",
       "      <td>161600 km</td>\n",
       "      <td>4.0</td>\n",
       "      <td>Tiptronic</td>\n",
       "      <td>Front</td>\n",
       "      <td>...</td>\n",
       "      <td>Red</td>\n",
       "      <td>8</td>\n",
       "      <td>0</td>\n",
       "      <td>0</td>\n",
       "      <td>0</td>\n",
       "      <td>1</td>\n",
       "      <td>0</td>\n",
       "      <td>0</td>\n",
       "      <td>0</td>\n",
       "      <td>0</td>\n",
       "    </tr>\n",
       "    <tr>\n",
       "      <th>19234</th>\n",
       "      <td>26108</td>\n",
       "      <td>2010</td>\n",
       "      <td>Jeep</td>\n",
       "      <td>Yes</td>\n",
       "      <td>Diesel</td>\n",
       "      <td>2</td>\n",
       "      <td>116365 km</td>\n",
       "      <td>4.0</td>\n",
       "      <td>Automatic</td>\n",
       "      <td>Front</td>\n",
       "      <td>...</td>\n",
       "      <td>Grey</td>\n",
       "      <td>4</td>\n",
       "      <td>0</td>\n",
       "      <td>0</td>\n",
       "      <td>0</td>\n",
       "      <td>1</td>\n",
       "      <td>0</td>\n",
       "      <td>0</td>\n",
       "      <td>0</td>\n",
       "      <td>0</td>\n",
       "    </tr>\n",
       "    <tr>\n",
       "      <th>19235</th>\n",
       "      <td>5331</td>\n",
       "      <td>2007</td>\n",
       "      <td>Jeep</td>\n",
       "      <td>Yes</td>\n",
       "      <td>Diesel</td>\n",
       "      <td>2</td>\n",
       "      <td>51258 km</td>\n",
       "      <td>4.0</td>\n",
       "      <td>Automatic</td>\n",
       "      <td>Front</td>\n",
       "      <td>...</td>\n",
       "      <td>Black</td>\n",
       "      <td>4</td>\n",
       "      <td>0</td>\n",
       "      <td>1</td>\n",
       "      <td>0</td>\n",
       "      <td>0</td>\n",
       "      <td>0</td>\n",
       "      <td>0</td>\n",
       "      <td>0</td>\n",
       "      <td>0</td>\n",
       "    </tr>\n",
       "    <tr>\n",
       "      <th>19236</th>\n",
       "      <td>470</td>\n",
       "      <td>2012</td>\n",
       "      <td>Sedan</td>\n",
       "      <td>Yes</td>\n",
       "      <td>Hybrid</td>\n",
       "      <td>2.4</td>\n",
       "      <td>186923 km</td>\n",
       "      <td>4.0</td>\n",
       "      <td>Automatic</td>\n",
       "      <td>Front</td>\n",
       "      <td>...</td>\n",
       "      <td>White</td>\n",
       "      <td>12</td>\n",
       "      <td>0</td>\n",
       "      <td>0</td>\n",
       "      <td>0</td>\n",
       "      <td>1</td>\n",
       "      <td>0</td>\n",
       "      <td>0</td>\n",
       "      <td>0</td>\n",
       "      <td>0</td>\n",
       "    </tr>\n",
       "  </tbody>\n",
       "</table>\n",
       "<p>17869 rows × 22 columns</p>\n",
       "</div>"
      ],
      "text/plain": [
       "       Price  Prod. year   Category Leather interior Fuel type Engine volume  \\\n",
       "0      13328        2010       Jeep              Yes    Hybrid           3.5   \n",
       "1      16621        2011       Jeep               No    Petrol             3   \n",
       "2       8467        2006  Hatchback               No    Petrol           1.3   \n",
       "3       3607        2011       Jeep              Yes    Hybrid           2.5   \n",
       "4      11726        2014  Hatchback              Yes    Petrol           1.3   \n",
       "...      ...         ...        ...              ...       ...           ...   \n",
       "19232   8467        1999      Coupe              Yes       CNG     2.0 Turbo   \n",
       "19233  15681        2011      Sedan              Yes    Petrol           2.4   \n",
       "19234  26108        2010       Jeep              Yes    Diesel             2   \n",
       "19235   5331        2007       Jeep              Yes    Diesel             2   \n",
       "19236    470        2012      Sedan              Yes    Hybrid           2.4   \n",
       "\n",
       "         Mileage  Cylinders Gear box type Drive wheels  ...   Color Airbags  \\\n",
       "0      186005 km        6.0     Automatic          4x4  ...  Silver      12   \n",
       "1      192000 km        6.0     Tiptronic          4x4  ...   Black       8   \n",
       "2      200000 km        4.0      Variator        Front  ...   Black       2   \n",
       "3      168966 km        4.0     Automatic          4x4  ...   White       0   \n",
       "4       91901 km        4.0     Automatic        Front  ...  Silver       4   \n",
       "...          ...        ...           ...          ...  ...     ...     ...   \n",
       "19232  300000 km        4.0        Manual         Rear  ...  Silver       5   \n",
       "19233  161600 km        4.0     Tiptronic        Front  ...     Red       8   \n",
       "19234  116365 km        4.0     Automatic        Front  ...    Grey       4   \n",
       "19235   51258 km        4.0     Automatic        Front  ...   Black       4   \n",
       "19236  186923 km        4.0     Automatic        Front  ...   White      12   \n",
       "\n",
       "      Manufacturer_BMW  Manufacturer_CHEVROLET  Manufacturer_FORD  \\\n",
       "0                    0                       0                  0   \n",
       "1                    0                       1                  0   \n",
       "2                    0                       0                  0   \n",
       "3                    0                       0                  1   \n",
       "4                    0                       0                  0   \n",
       "...                ...                     ...                ...   \n",
       "19232                0                       0                  0   \n",
       "19233                0                       0                  0   \n",
       "19234                0                       0                  0   \n",
       "19235                0                       1                  0   \n",
       "19236                0                       0                  0   \n",
       "\n",
       "       Manufacturer_HYUNDAI  Manufacturer_MERCEDES-BENZ  Manufacturer_Other  \\\n",
       "0                         0                           0                   1   \n",
       "1                         0                           0                   0   \n",
       "2                         0                           0                   1   \n",
       "3                         0                           0                   0   \n",
       "4                         0                           0                   1   \n",
       "...                     ...                         ...                 ...   \n",
       "19232                     0                           1                   0   \n",
       "19233                     1                           0                   0   \n",
       "19234                     1                           0                   0   \n",
       "19235                     0                           0                   0   \n",
       "19236                     1                           0                   0   \n",
       "\n",
       "       Manufacturer_TOYOTA  Turbo  \n",
       "0                        0      0  \n",
       "1                        0      0  \n",
       "2                        0      0  \n",
       "3                        0      0  \n",
       "4                        0      0  \n",
       "...                    ...    ...  \n",
       "19232                    0      1  \n",
       "19233                    0      0  \n",
       "19234                    0      0  \n",
       "19235                    0      0  \n",
       "19236                    0      0  \n",
       "\n",
       "[17869 rows x 22 columns]"
      ]
     },
     "execution_count": 124,
     "metadata": {},
     "output_type": "execute_result"
    }
   ],
   "source": [
    "df"
   ]
  },
  {
   "cell_type": "code",
   "execution_count": 125,
   "id": "a1a0226c",
   "metadata": {},
   "outputs": [
    {
     "data": {
      "text/plain": [
       "{1}"
      ]
     },
     "execution_count": 125,
     "metadata": {},
     "output_type": "execute_result"
    }
   ],
   "source": [
    "set(df.loc[df[\"Engine volume\"].str.contains(\"Turbo\"),\"Turbo\"])"
   ]
  },
  {
   "cell_type": "code",
   "execution_count": 126,
   "id": "0b3ad002",
   "metadata": {},
   "outputs": [],
   "source": [
    "for i in range(len(df)):\n",
    "    df.iloc[i,5]=df.iloc[i,5].replace(\"Turbo\",\"\")"
   ]
  },
  {
   "cell_type": "code",
   "execution_count": 127,
   "id": "2b0d40c2",
   "metadata": {},
   "outputs": [
    {
     "data": {
      "text/html": [
       "<div>\n",
       "<style scoped>\n",
       "    .dataframe tbody tr th:only-of-type {\n",
       "        vertical-align: middle;\n",
       "    }\n",
       "\n",
       "    .dataframe tbody tr th {\n",
       "        vertical-align: top;\n",
       "    }\n",
       "\n",
       "    .dataframe thead th {\n",
       "        text-align: right;\n",
       "    }\n",
       "</style>\n",
       "<table border=\"1\" class=\"dataframe\">\n",
       "  <thead>\n",
       "    <tr style=\"text-align: right;\">\n",
       "      <th></th>\n",
       "      <th>Price</th>\n",
       "      <th>Prod. year</th>\n",
       "      <th>Category</th>\n",
       "      <th>Leather interior</th>\n",
       "      <th>Fuel type</th>\n",
       "      <th>Engine volume</th>\n",
       "      <th>Mileage</th>\n",
       "      <th>Cylinders</th>\n",
       "      <th>Gear box type</th>\n",
       "      <th>Drive wheels</th>\n",
       "      <th>...</th>\n",
       "      <th>Color</th>\n",
       "      <th>Airbags</th>\n",
       "      <th>Manufacturer_BMW</th>\n",
       "      <th>Manufacturer_CHEVROLET</th>\n",
       "      <th>Manufacturer_FORD</th>\n",
       "      <th>Manufacturer_HYUNDAI</th>\n",
       "      <th>Manufacturer_MERCEDES-BENZ</th>\n",
       "      <th>Manufacturer_Other</th>\n",
       "      <th>Manufacturer_TOYOTA</th>\n",
       "      <th>Turbo</th>\n",
       "    </tr>\n",
       "  </thead>\n",
       "  <tbody>\n",
       "  </tbody>\n",
       "</table>\n",
       "<p>0 rows × 22 columns</p>\n",
       "</div>"
      ],
      "text/plain": [
       "Empty DataFrame\n",
       "Columns: [Price, Prod. year, Category, Leather interior, Fuel type, Engine volume, Mileage, Cylinders, Gear box type, Drive wheels, Doors, Wheel, Color, Airbags, Manufacturer_BMW, Manufacturer_CHEVROLET, Manufacturer_FORD, Manufacturer_HYUNDAI, Manufacturer_MERCEDES-BENZ, Manufacturer_Other, Manufacturer_TOYOTA, Turbo]\n",
       "Index: []\n",
       "\n",
       "[0 rows x 22 columns]"
      ]
     },
     "execution_count": 127,
     "metadata": {},
     "output_type": "execute_result"
    }
   ],
   "source": [
    "df[df[\"Engine volume\"].str.contains(\"Turbo\")]"
   ]
  },
  {
   "cell_type": "code",
   "execution_count": 128,
   "id": "d9cd8bd3",
   "metadata": {},
   "outputs": [],
   "source": [
    "df[\"Engine volume\"]=df[\"Engine volume\"].astype(float)"
   ]
  },
  {
   "cell_type": "markdown",
   "id": "7876f232",
   "metadata": {},
   "source": [
    "#### 7)Cylinders"
   ]
  },
  {
   "cell_type": "code",
   "execution_count": 129,
   "id": "741aedb8",
   "metadata": {},
   "outputs": [],
   "source": [
    "df[\"Cylinders\"]=df[\"Cylinders\"].astype(int)"
   ]
  },
  {
   "cell_type": "code",
   "execution_count": 130,
   "id": "ad067cc4",
   "metadata": {},
   "outputs": [
    {
     "name": "stdout",
     "output_type": "stream",
     "text": [
      "<class 'pandas.core.frame.DataFrame'>\n",
      "Int64Index: 17869 entries, 0 to 19236\n",
      "Data columns (total 22 columns):\n",
      " #   Column                      Non-Null Count  Dtype  \n",
      "---  ------                      --------------  -----  \n",
      " 0   Price                       17869 non-null  int64  \n",
      " 1   Prod. year                  17869 non-null  int64  \n",
      " 2   Category                    17869 non-null  object \n",
      " 3   Leather interior            17869 non-null  object \n",
      " 4   Fuel type                   17869 non-null  object \n",
      " 5   Engine volume               17869 non-null  float64\n",
      " 6   Mileage                     17869 non-null  object \n",
      " 7   Cylinders                   17869 non-null  int32  \n",
      " 8   Gear box type               17869 non-null  object \n",
      " 9   Drive wheels                17869 non-null  object \n",
      " 10  Doors                       17869 non-null  object \n",
      " 11  Wheel                       17869 non-null  object \n",
      " 12  Color                       17869 non-null  object \n",
      " 13  Airbags                     17869 non-null  int64  \n",
      " 14  Manufacturer_BMW            17869 non-null  uint8  \n",
      " 15  Manufacturer_CHEVROLET      17869 non-null  uint8  \n",
      " 16  Manufacturer_FORD           17869 non-null  uint8  \n",
      " 17  Manufacturer_HYUNDAI        17869 non-null  uint8  \n",
      " 18  Manufacturer_MERCEDES-BENZ  17869 non-null  uint8  \n",
      " 19  Manufacturer_Other          17869 non-null  uint8  \n",
      " 20  Manufacturer_TOYOTA         17869 non-null  uint8  \n",
      " 21  Turbo                       17869 non-null  int64  \n",
      "dtypes: float64(1), int32(1), int64(4), object(9), uint8(7)\n",
      "memory usage: 2.2+ MB\n"
     ]
    }
   ],
   "source": [
    "df.info()"
   ]
  },
  {
   "cell_type": "code",
   "execution_count": 131,
   "id": "c68c455d",
   "metadata": {},
   "outputs": [
    {
     "data": {
      "image/png": "[encoded data removed]",
      "text/plain": [
       "<Figure size 864x720 with 1 Axes>"
      ]
     },
     "metadata": {},
     "output_type": "display_data"
    }
   ],
   "source": [
    "sns.barplot (x=\"Cylinders\",y=\"Price\",data=df);"
   ]
  },
  {
   "cell_type": "code",
   "execution_count": 132,
   "id": "2cc7d50d",
   "metadata": {},
   "outputs": [
    {
     "data": {
      "image/png": "[encoded data removed]",
      "text/plain": [
       "<Figure size 864x720 with 1 Axes>"
      ]
     },
     "metadata": {},
     "output_type": "display_data"
    }
   ],
   "source": [
    "sns.lineplot (x=\"Cylinders\",y=\"Price\",data=df);"
   ]
  },
  {
   "cell_type": "markdown",
   "id": "ef84ddfe",
   "metadata": {},
   "source": [
    "#### 8)Leather interior"
   ]
  },
  {
   "cell_type": "code",
   "execution_count": 133,
   "id": "02b1ac9c",
   "metadata": {},
   "outputs": [
    {
     "data": {
      "image/png": "[encoded data removed]",
      "text/plain": [
       "<Figure size 864x720 with 1 Axes>"
      ]
     },
     "metadata": {},
     "output_type": "display_data"
    }
   ],
   "source": [
    "sns.boxplot (x=\"Leather interior\",y=\"Price\",data=df);\n",
    "    "
   ]
  },
  {
   "cell_type": "code",
   "execution_count": 134,
   "id": "0af351c4",
   "metadata": {},
   "outputs": [
    {
     "data": {
      "text/plain": [
       "<AxesSubplot:xlabel='Leather interior', ylabel='count'>"
      ]
     },
     "execution_count": 134,
     "metadata": {},
     "output_type": "execute_result"
    },
    {
     "data": {
      "image/png": "[encoded data removed]",
      "text/plain": [
       "<Figure size 864x720 with 1 Axes>"
      ]
     },
     "metadata": {},
     "output_type": "display_data"
    }
   ],
   "source": [
    "sns.countplot(x=\"Leather interior\",data=df)"
   ]
  },
  {
   "cell_type": "code",
   "execution_count": 135,
   "id": "01f6f7af",
   "metadata": {},
   "outputs": [],
   "source": [
    "df=pd.get_dummies(df,columns=[\"Leather interior\"],drop_first=True)"
   ]
  },
  {
   "cell_type": "code",
   "execution_count": 136,
   "id": "de3c15df",
   "metadata": {},
   "outputs": [
    {
     "name": "stdout",
     "output_type": "stream",
     "text": [
      "<class 'pandas.core.frame.DataFrame'>\n",
      "Int64Index: 17869 entries, 0 to 19236\n",
      "Data columns (total 22 columns):\n",
      " #   Column                      Non-Null Count  Dtype  \n",
      "---  ------                      --------------  -----  \n",
      " 0   Price                       17869 non-null  int64  \n",
      " 1   Prod. year                  17869 non-null  int64  \n",
      " 2   Category                    17869 non-null  object \n",
      " 3   Fuel type                   17869 non-null  object \n",
      " 4   Engine volume               17869 non-null  float64\n",
      " 5   Mileage                     17869 non-null  object \n",
      " 6   Cylinders                   17869 non-null  int32  \n",
      " 7   Gear box type               17869 non-null  object \n",
      " 8   Drive wheels                17869 non-null  object \n",
      " 9   Doors                       17869 non-null  object \n",
      " 10  Wheel                       17869 non-null  object \n",
      " 11  Color                       17869 non-null  object \n",
      " 12  Airbags                     17869 non-null  int64  \n",
      " 13  Manufacturer_BMW            17869 non-null  uint8  \n",
      " 14  Manufacturer_CHEVROLET      17869 non-null  uint8  \n",
      " 15  Manufacturer_FORD           17869 non-null  uint8  \n",
      " 16  Manufacturer_HYUNDAI        17869 non-null  uint8  \n",
      " 17  Manufacturer_MERCEDES-BENZ  17869 non-null  uint8  \n",
      " 18  Manufacturer_Other          17869 non-null  uint8  \n",
      " 19  Manufacturer_TOYOTA         17869 non-null  uint8  \n",
      " 20  Turbo                       17869 non-null  int64  \n",
      " 21  Leather interior_Yes        17869 non-null  uint8  \n",
      "dtypes: float64(1), int32(1), int64(4), object(8), uint8(8)\n",
      "memory usage: 2.6+ MB\n"
     ]
    }
   ],
   "source": [
    "df.info()"
   ]
  },
  {
   "cell_type": "markdown",
   "id": "76282c3a",
   "metadata": {},
   "source": [
    "#### 9) Mileage"
   ]
  },
  {
   "cell_type": "code",
   "execution_count": 137,
   "id": "925919e9",
   "metadata": {},
   "outputs": [],
   "source": [
    "for i in range(len(df)):\n",
    "    df.iloc[i,5]=df.iloc[i,5].replace(\"km\",\"\")"
   ]
  },
  {
   "cell_type": "code",
   "execution_count": 138,
   "id": "9caca82a",
   "metadata": {},
   "outputs": [
    {
     "data": {
      "text/html": [
       "<div>\n",
       "<style scoped>\n",
       "    .dataframe tbody tr th:only-of-type {\n",
       "        vertical-align: middle;\n",
       "    }\n",
       "\n",
       "    .dataframe tbody tr th {\n",
       "        vertical-align: top;\n",
       "    }\n",
       "\n",
       "    .dataframe thead th {\n",
       "        text-align: right;\n",
       "    }\n",
       "</style>\n",
       "<table border=\"1\" class=\"dataframe\">\n",
       "  <thead>\n",
       "    <tr style=\"text-align: right;\">\n",
       "      <th></th>\n",
       "      <th>Price</th>\n",
       "      <th>Prod. year</th>\n",
       "      <th>Category</th>\n",
       "      <th>Fuel type</th>\n",
       "      <th>Engine volume</th>\n",
       "      <th>Mileage</th>\n",
       "      <th>Cylinders</th>\n",
       "      <th>Gear box type</th>\n",
       "      <th>Drive wheels</th>\n",
       "      <th>Doors</th>\n",
       "      <th>...</th>\n",
       "      <th>Airbags</th>\n",
       "      <th>Manufacturer_BMW</th>\n",
       "      <th>Manufacturer_CHEVROLET</th>\n",
       "      <th>Manufacturer_FORD</th>\n",
       "      <th>Manufacturer_HYUNDAI</th>\n",
       "      <th>Manufacturer_MERCEDES-BENZ</th>\n",
       "      <th>Manufacturer_Other</th>\n",
       "      <th>Manufacturer_TOYOTA</th>\n",
       "      <th>Turbo</th>\n",
       "      <th>Leather interior_Yes</th>\n",
       "    </tr>\n",
       "  </thead>\n",
       "  <tbody>\n",
       "    <tr>\n",
       "      <th>0</th>\n",
       "      <td>13328</td>\n",
       "      <td>2010</td>\n",
       "      <td>Jeep</td>\n",
       "      <td>Hybrid</td>\n",
       "      <td>3.5</td>\n",
       "      <td>186005</td>\n",
       "      <td>6</td>\n",
       "      <td>Automatic</td>\n",
       "      <td>4x4</td>\n",
       "      <td>04-May</td>\n",
       "      <td>...</td>\n",
       "      <td>12</td>\n",
       "      <td>0</td>\n",
       "      <td>0</td>\n",
       "      <td>0</td>\n",
       "      <td>0</td>\n",
       "      <td>0</td>\n",
       "      <td>1</td>\n",
       "      <td>0</td>\n",
       "      <td>0</td>\n",
       "      <td>1</td>\n",
       "    </tr>\n",
       "    <tr>\n",
       "      <th>1</th>\n",
       "      <td>16621</td>\n",
       "      <td>2011</td>\n",
       "      <td>Jeep</td>\n",
       "      <td>Petrol</td>\n",
       "      <td>3.0</td>\n",
       "      <td>192000</td>\n",
       "      <td>6</td>\n",
       "      <td>Tiptronic</td>\n",
       "      <td>4x4</td>\n",
       "      <td>04-May</td>\n",
       "      <td>...</td>\n",
       "      <td>8</td>\n",
       "      <td>0</td>\n",
       "      <td>1</td>\n",
       "      <td>0</td>\n",
       "      <td>0</td>\n",
       "      <td>0</td>\n",
       "      <td>0</td>\n",
       "      <td>0</td>\n",
       "      <td>0</td>\n",
       "      <td>0</td>\n",
       "    </tr>\n",
       "    <tr>\n",
       "      <th>2</th>\n",
       "      <td>8467</td>\n",
       "      <td>2006</td>\n",
       "      <td>Hatchback</td>\n",
       "      <td>Petrol</td>\n",
       "      <td>1.3</td>\n",
       "      <td>200000</td>\n",
       "      <td>4</td>\n",
       "      <td>Variator</td>\n",
       "      <td>Front</td>\n",
       "      <td>04-May</td>\n",
       "      <td>...</td>\n",
       "      <td>2</td>\n",
       "      <td>0</td>\n",
       "      <td>0</td>\n",
       "      <td>0</td>\n",
       "      <td>0</td>\n",
       "      <td>0</td>\n",
       "      <td>1</td>\n",
       "      <td>0</td>\n",
       "      <td>0</td>\n",
       "      <td>0</td>\n",
       "    </tr>\n",
       "    <tr>\n",
       "      <th>3</th>\n",
       "      <td>3607</td>\n",
       "      <td>2011</td>\n",
       "      <td>Jeep</td>\n",
       "      <td>Hybrid</td>\n",
       "      <td>2.5</td>\n",
       "      <td>168966</td>\n",
       "      <td>4</td>\n",
       "      <td>Automatic</td>\n",
       "      <td>4x4</td>\n",
       "      <td>04-May</td>\n",
       "      <td>...</td>\n",
       "      <td>0</td>\n",
       "      <td>0</td>\n",
       "      <td>0</td>\n",
       "      <td>1</td>\n",
       "      <td>0</td>\n",
       "      <td>0</td>\n",
       "      <td>0</td>\n",
       "      <td>0</td>\n",
       "      <td>0</td>\n",
       "      <td>1</td>\n",
       "    </tr>\n",
       "    <tr>\n",
       "      <th>4</th>\n",
       "      <td>11726</td>\n",
       "      <td>2014</td>\n",
       "      <td>Hatchback</td>\n",
       "      <td>Petrol</td>\n",
       "      <td>1.3</td>\n",
       "      <td>91901</td>\n",
       "      <td>4</td>\n",
       "      <td>Automatic</td>\n",
       "      <td>Front</td>\n",
       "      <td>04-May</td>\n",
       "      <td>...</td>\n",
       "      <td>4</td>\n",
       "      <td>0</td>\n",
       "      <td>0</td>\n",
       "      <td>0</td>\n",
       "      <td>0</td>\n",
       "      <td>0</td>\n",
       "      <td>1</td>\n",
       "      <td>0</td>\n",
       "      <td>0</td>\n",
       "      <td>1</td>\n",
       "    </tr>\n",
       "  </tbody>\n",
       "</table>\n",
       "<p>5 rows × 22 columns</p>\n",
       "</div>"
      ],
      "text/plain": [
       "   Price  Prod. year   Category Fuel type  Engine volume  Mileage  Cylinders  \\\n",
       "0  13328        2010       Jeep    Hybrid            3.5  186005           6   \n",
       "1  16621        2011       Jeep    Petrol            3.0  192000           6   \n",
       "2   8467        2006  Hatchback    Petrol            1.3  200000           4   \n",
       "3   3607        2011       Jeep    Hybrid            2.5  168966           4   \n",
       "4  11726        2014  Hatchback    Petrol            1.3   91901           4   \n",
       "\n",
       "  Gear box type Drive wheels   Doors  ... Airbags Manufacturer_BMW  \\\n",
       "0     Automatic          4x4  04-May  ...      12                0   \n",
       "1     Tiptronic          4x4  04-May  ...       8                0   \n",
       "2      Variator        Front  04-May  ...       2                0   \n",
       "3     Automatic          4x4  04-May  ...       0                0   \n",
       "4     Automatic        Front  04-May  ...       4                0   \n",
       "\n",
       "   Manufacturer_CHEVROLET  Manufacturer_FORD  Manufacturer_HYUNDAI  \\\n",
       "0                       0                  0                     0   \n",
       "1                       1                  0                     0   \n",
       "2                       0                  0                     0   \n",
       "3                       0                  1                     0   \n",
       "4                       0                  0                     0   \n",
       "\n",
       "   Manufacturer_MERCEDES-BENZ  Manufacturer_Other  Manufacturer_TOYOTA  Turbo  \\\n",
       "0                           0                   1                    0      0   \n",
       "1                           0                   0                    0      0   \n",
       "2                           0                   1                    0      0   \n",
       "3                           0                   0                    0      0   \n",
       "4                           0                   1                    0      0   \n",
       "\n",
       "   Leather interior_Yes  \n",
       "0                     1  \n",
       "1                     0  \n",
       "2                     0  \n",
       "3                     1  \n",
       "4                     1  \n",
       "\n",
       "[5 rows x 22 columns]"
      ]
     },
     "execution_count": 138,
     "metadata": {},
     "output_type": "execute_result"
    }
   ],
   "source": [
    "df.head()"
   ]
  },
  {
   "cell_type": "code",
   "execution_count": 139,
   "id": "d2e5d352",
   "metadata": {},
   "outputs": [],
   "source": [
    "df[\"Mileage\"]=df[\"Mileage\"].astype(int)"
   ]
  },
  {
   "cell_type": "code",
   "execution_count": 140,
   "id": "7d5401d4",
   "metadata": {},
   "outputs": [
    {
     "name": "stdout",
     "output_type": "stream",
     "text": [
      "<class 'pandas.core.frame.DataFrame'>\n",
      "Int64Index: 17869 entries, 0 to 19236\n",
      "Data columns (total 22 columns):\n",
      " #   Column                      Non-Null Count  Dtype  \n",
      "---  ------                      --------------  -----  \n",
      " 0   Price                       17869 non-null  int64  \n",
      " 1   Prod. year                  17869 non-null  int64  \n",
      " 2   Category                    17869 non-null  object \n",
      " 3   Fuel type                   17869 non-null  object \n",
      " 4   Engine volume               17869 non-null  float64\n",
      " 5   Mileage                     17869 non-null  int32  \n",
      " 6   Cylinders                   17869 non-null  int32  \n",
      " 7   Gear box type               17869 non-null  object \n",
      " 8   Drive wheels                17869 non-null  object \n",
      " 9   Doors                       17869 non-null  object \n",
      " 10  Wheel                       17869 non-null  object \n",
      " 11  Color                       17869 non-null  object \n",
      " 12  Airbags                     17869 non-null  int64  \n",
      " 13  Manufacturer_BMW            17869 non-null  uint8  \n",
      " 14  Manufacturer_CHEVROLET      17869 non-null  uint8  \n",
      " 15  Manufacturer_FORD           17869 non-null  uint8  \n",
      " 16  Manufacturer_HYUNDAI        17869 non-null  uint8  \n",
      " 17  Manufacturer_MERCEDES-BENZ  17869 non-null  uint8  \n",
      " 18  Manufacturer_Other          17869 non-null  uint8  \n",
      " 19  Manufacturer_TOYOTA         17869 non-null  uint8  \n",
      " 20  Turbo                       17869 non-null  int64  \n",
      " 21  Leather interior_Yes        17869 non-null  uint8  \n",
      "dtypes: float64(1), int32(2), int64(4), object(7), uint8(8)\n",
      "memory usage: 2.5+ MB\n"
     ]
    }
   ],
   "source": [
    "df.info()"
   ]
  },
  {
   "cell_type": "markdown",
   "id": "7139c0cb",
   "metadata": {},
   "source": [
    "#### 10) Category"
   ]
  },
  {
   "cell_type": "code",
   "execution_count": 141,
   "id": "ff65c662",
   "metadata": {},
   "outputs": [
    {
     "data": {
      "text/plain": [
       "count     17869\n",
       "unique       11\n",
       "top       Sedan\n",
       "freq       8318\n",
       "Name: Category, dtype: object"
      ]
     },
     "execution_count": 141,
     "metadata": {},
     "output_type": "execute_result"
    }
   ],
   "source": [
    "df[\"Category\"].describe()"
   ]
  },
  {
   "cell_type": "code",
   "execution_count": 142,
   "id": "5f6fd17b",
   "metadata": {},
   "outputs": [
    {
     "data": {
      "text/plain": [
       "<AxesSubplot:xlabel='Category', ylabel='Price'>"
      ]
     },
     "execution_count": 142,
     "metadata": {},
     "output_type": "execute_result"
    },
    {
     "data": {
      "image/png": "[encoded data removed]",
      "text/plain": [
       "<Figure size 1008x864 with 1 Axes>"
      ]
     },
     "metadata": {},
     "output_type": "display_data"
    }
   ],
   "source": [
    "sns.set(rc={'figure.figsize': [14, 12]}, font_scale=1.2)\n",
    "sns.barplot(x='Category',y=\"Price\",data=df)"
   ]
  },
  {
   "cell_type": "code",
   "execution_count": 143,
   "id": "925ba417",
   "metadata": {},
   "outputs": [
    {
     "data": {
      "text/plain": [
       "<AxesSubplot:xlabel='Category', ylabel='Price'>"
      ]
     },
     "execution_count": 143,
     "metadata": {},
     "output_type": "execute_result"
    },
    {
     "data": {
      "image/png": "[encoded data removed]",
      "text/plain": [
       "<Figure size 1008x864 with 1 Axes>"
      ]
     },
     "metadata": {},
     "output_type": "display_data"
    }
   ],
   "source": [
    "sns.lineplot(x=\"Category\",y=\"Price\",data=df)"
   ]
  },
  {
   "cell_type": "code",
   "execution_count": 144,
   "id": "8bb7d90e",
   "metadata": {},
   "outputs": [
    {
     "data": {
      "text/plain": [
       "<AxesSubplot:xlabel='Category', ylabel='count'>"
      ]
     },
     "execution_count": 144,
     "metadata": {},
     "output_type": "execute_result"
    },
    {
     "data": {
      "image/png": "[encoded data removed]",
      "text/plain": [
       "<Figure size 1008x864 with 1 Axes>"
      ]
     },
     "metadata": {},
     "output_type": "display_data"
    }
   ],
   "source": [
    "sns.countplot(x=\"Category\",data=df)"
   ]
  },
  {
   "cell_type": "code",
   "execution_count": 145,
   "id": "77bf4296",
   "metadata": {},
   "outputs": [
    {
     "data": {
      "text/plain": [
       "Sedan        8318\n",
       "Jeep         4736\n",
       "Hatchback    2781\n",
       "Minivan       620\n",
       "Coupe         477\n",
       "Universal     339\n",
       "Name: Category, dtype: int64"
      ]
     },
     "execution_count": 145,
     "metadata": {},
     "output_type": "execute_result"
    }
   ],
   "source": [
    "co_Category=df[\"Category\"].value_counts().head(6)\n",
    "co_Category"
   ]
  },
  {
   "cell_type": "code",
   "execution_count": 146,
   "id": "032492e5",
   "metadata": {},
   "outputs": [
    {
     "data": {
      "text/plain": [
       "Index(['Sedan', 'Jeep', 'Hatchback', 'Minivan', 'Coupe', 'Universal'], dtype='object')"
      ]
     },
     "execution_count": 146,
     "metadata": {},
     "output_type": "execute_result"
    }
   ],
   "source": [
    "Category= co_Category.index\n",
    "Category"
   ]
  },
  {
   "cell_type": "code",
   "execution_count": 147,
   "id": "07bab19b",
   "metadata": {},
   "outputs": [],
   "source": [
    "df[\"Category\"]=df[\"Category\"].apply(lambda x:x if x in Category else \"Other\")"
   ]
  },
  {
   "cell_type": "code",
   "execution_count": 148,
   "id": "8b3e281d",
   "metadata": {},
   "outputs": [],
   "source": [
    "df=pd.get_dummies(df,columns=[\"Category\"])"
   ]
  },
  {
   "cell_type": "code",
   "execution_count": 149,
   "id": "5dc01700",
   "metadata": {},
   "outputs": [
    {
     "data": {
      "text/html": [
       "<div>\n",
       "<style scoped>\n",
       "    .dataframe tbody tr th:only-of-type {\n",
       "        vertical-align: middle;\n",
       "    }\n",
       "\n",
       "    .dataframe tbody tr th {\n",
       "        vertical-align: top;\n",
       "    }\n",
       "\n",
       "    .dataframe thead th {\n",
       "        text-align: right;\n",
       "    }\n",
       "</style>\n",
       "<table border=\"1\" class=\"dataframe\">\n",
       "  <thead>\n",
       "    <tr style=\"text-align: right;\">\n",
       "      <th></th>\n",
       "      <th>Price</th>\n",
       "      <th>Prod. year</th>\n",
       "      <th>Fuel type</th>\n",
       "      <th>Engine volume</th>\n",
       "      <th>Mileage</th>\n",
       "      <th>Cylinders</th>\n",
       "      <th>Gear box type</th>\n",
       "      <th>Drive wheels</th>\n",
       "      <th>Doors</th>\n",
       "      <th>Wheel</th>\n",
       "      <th>...</th>\n",
       "      <th>Manufacturer_TOYOTA</th>\n",
       "      <th>Turbo</th>\n",
       "      <th>Leather interior_Yes</th>\n",
       "      <th>Category_Coupe</th>\n",
       "      <th>Category_Hatchback</th>\n",
       "      <th>Category_Jeep</th>\n",
       "      <th>Category_Minivan</th>\n",
       "      <th>Category_Other</th>\n",
       "      <th>Category_Sedan</th>\n",
       "      <th>Category_Universal</th>\n",
       "    </tr>\n",
       "  </thead>\n",
       "  <tbody>\n",
       "    <tr>\n",
       "      <th>0</th>\n",
       "      <td>13328</td>\n",
       "      <td>2010</td>\n",
       "      <td>Hybrid</td>\n",
       "      <td>3.5</td>\n",
       "      <td>186005</td>\n",
       "      <td>6</td>\n",
       "      <td>Automatic</td>\n",
       "      <td>4x4</td>\n",
       "      <td>04-May</td>\n",
       "      <td>Left wheel</td>\n",
       "      <td>...</td>\n",
       "      <td>0</td>\n",
       "      <td>0</td>\n",
       "      <td>1</td>\n",
       "      <td>0</td>\n",
       "      <td>0</td>\n",
       "      <td>1</td>\n",
       "      <td>0</td>\n",
       "      <td>0</td>\n",
       "      <td>0</td>\n",
       "      <td>0</td>\n",
       "    </tr>\n",
       "    <tr>\n",
       "      <th>1</th>\n",
       "      <td>16621</td>\n",
       "      <td>2011</td>\n",
       "      <td>Petrol</td>\n",
       "      <td>3.0</td>\n",
       "      <td>192000</td>\n",
       "      <td>6</td>\n",
       "      <td>Tiptronic</td>\n",
       "      <td>4x4</td>\n",
       "      <td>04-May</td>\n",
       "      <td>Left wheel</td>\n",
       "      <td>...</td>\n",
       "      <td>0</td>\n",
       "      <td>0</td>\n",
       "      <td>0</td>\n",
       "      <td>0</td>\n",
       "      <td>0</td>\n",
       "      <td>1</td>\n",
       "      <td>0</td>\n",
       "      <td>0</td>\n",
       "      <td>0</td>\n",
       "      <td>0</td>\n",
       "    </tr>\n",
       "    <tr>\n",
       "      <th>2</th>\n",
       "      <td>8467</td>\n",
       "      <td>2006</td>\n",
       "      <td>Petrol</td>\n",
       "      <td>1.3</td>\n",
       "      <td>200000</td>\n",
       "      <td>4</td>\n",
       "      <td>Variator</td>\n",
       "      <td>Front</td>\n",
       "      <td>04-May</td>\n",
       "      <td>Right-hand drive</td>\n",
       "      <td>...</td>\n",
       "      <td>0</td>\n",
       "      <td>0</td>\n",
       "      <td>0</td>\n",
       "      <td>0</td>\n",
       "      <td>1</td>\n",
       "      <td>0</td>\n",
       "      <td>0</td>\n",
       "      <td>0</td>\n",
       "      <td>0</td>\n",
       "      <td>0</td>\n",
       "    </tr>\n",
       "    <tr>\n",
       "      <th>3</th>\n",
       "      <td>3607</td>\n",
       "      <td>2011</td>\n",
       "      <td>Hybrid</td>\n",
       "      <td>2.5</td>\n",
       "      <td>168966</td>\n",
       "      <td>4</td>\n",
       "      <td>Automatic</td>\n",
       "      <td>4x4</td>\n",
       "      <td>04-May</td>\n",
       "      <td>Left wheel</td>\n",
       "      <td>...</td>\n",
       "      <td>0</td>\n",
       "      <td>0</td>\n",
       "      <td>1</td>\n",
       "      <td>0</td>\n",
       "      <td>0</td>\n",
       "      <td>1</td>\n",
       "      <td>0</td>\n",
       "      <td>0</td>\n",
       "      <td>0</td>\n",
       "      <td>0</td>\n",
       "    </tr>\n",
       "    <tr>\n",
       "      <th>4</th>\n",
       "      <td>11726</td>\n",
       "      <td>2014</td>\n",
       "      <td>Petrol</td>\n",
       "      <td>1.3</td>\n",
       "      <td>91901</td>\n",
       "      <td>4</td>\n",
       "      <td>Automatic</td>\n",
       "      <td>Front</td>\n",
       "      <td>04-May</td>\n",
       "      <td>Left wheel</td>\n",
       "      <td>...</td>\n",
       "      <td>0</td>\n",
       "      <td>0</td>\n",
       "      <td>1</td>\n",
       "      <td>0</td>\n",
       "      <td>1</td>\n",
       "      <td>0</td>\n",
       "      <td>0</td>\n",
       "      <td>0</td>\n",
       "      <td>0</td>\n",
       "      <td>0</td>\n",
       "    </tr>\n",
       "  </tbody>\n",
       "</table>\n",
       "<p>5 rows × 28 columns</p>\n",
       "</div>"
      ],
      "text/plain": [
       "   Price  Prod. year Fuel type  Engine volume  Mileage  Cylinders  \\\n",
       "0  13328        2010    Hybrid            3.5   186005          6   \n",
       "1  16621        2011    Petrol            3.0   192000          6   \n",
       "2   8467        2006    Petrol            1.3   200000          4   \n",
       "3   3607        2011    Hybrid            2.5   168966          4   \n",
       "4  11726        2014    Petrol            1.3    91901          4   \n",
       "\n",
       "  Gear box type Drive wheels   Doors             Wheel  ...  \\\n",
       "0     Automatic          4x4  04-May        Left wheel  ...   \n",
       "1     Tiptronic          4x4  04-May        Left wheel  ...   \n",
       "2      Variator        Front  04-May  Right-hand drive  ...   \n",
       "3     Automatic          4x4  04-May        Left wheel  ...   \n",
       "4     Automatic        Front  04-May        Left wheel  ...   \n",
       "\n",
       "  Manufacturer_TOYOTA  Turbo  Leather interior_Yes  Category_Coupe  \\\n",
       "0                   0      0                     1               0   \n",
       "1                   0      0                     0               0   \n",
       "2                   0      0                     0               0   \n",
       "3                   0      0                     1               0   \n",
       "4                   0      0                     1               0   \n",
       "\n",
       "   Category_Hatchback  Category_Jeep  Category_Minivan  Category_Other  \\\n",
       "0                   0              1                 0               0   \n",
       "1                   0              1                 0               0   \n",
       "2                   1              0                 0               0   \n",
       "3                   0              1                 0               0   \n",
       "4                   1              0                 0               0   \n",
       "\n",
       "   Category_Sedan  Category_Universal  \n",
       "0               0                   0  \n",
       "1               0                   0  \n",
       "2               0                   0  \n",
       "3               0                   0  \n",
       "4               0                   0  \n",
       "\n",
       "[5 rows x 28 columns]"
      ]
     },
     "execution_count": 149,
     "metadata": {},
     "output_type": "execute_result"
    }
   ],
   "source": [
    "df.head()"
   ]
  },
  {
   "cell_type": "markdown",
   "id": "7a48d802",
   "metadata": {},
   "source": [
    "#### 11)Prod.year"
   ]
  },
  {
   "cell_type": "code",
   "execution_count": 150,
   "id": "723ed617",
   "metadata": {},
   "outputs": [
    {
     "data": {
      "text/plain": [
       "<AxesSubplot:xlabel='Prod. year', ylabel='Price'>"
      ]
     },
     "execution_count": 150,
     "metadata": {},
     "output_type": "execute_result"
    },
    {
     "data": {
      "image/png": "[encoded data removed]",
      "text/plain": [
       "<Figure size 1008x864 with 1 Axes>"
      ]
     },
     "metadata": {},
     "output_type": "display_data"
    }
   ],
   "source": [
    "sns.kdeplot(x=\"Prod. year\",y=\"Price\",data=df)"
   ]
  },
  {
   "cell_type": "code",
   "execution_count": null,
   "id": "156e4197",
   "metadata": {},
   "outputs": [],
   "source": []
  },
  {
   "cell_type": "code",
   "execution_count": 151,
   "id": "afa289fc",
   "metadata": {},
   "outputs": [],
   "source": [
    "#df[\"Prod. year\"]=pd.to_datetime(df[\"Prod. year\"],format=\"YYYY\")"
   ]
  },
  {
   "cell_type": "code",
   "execution_count": 152,
   "id": "a544d46b",
   "metadata": {},
   "outputs": [],
   "source": [
    "#df[\"Prod. year\"]=df[\"Prod. year\"].dt.year"
   ]
  },
  {
   "cell_type": "code",
   "execution_count": 153,
   "id": "1006864e",
   "metadata": {},
   "outputs": [
    {
     "data": {
      "text/html": [
       "<div>\n",
       "<style scoped>\n",
       "    .dataframe tbody tr th:only-of-type {\n",
       "        vertical-align: middle;\n",
       "    }\n",
       "\n",
       "    .dataframe tbody tr th {\n",
       "        vertical-align: top;\n",
       "    }\n",
       "\n",
       "    .dataframe thead th {\n",
       "        text-align: right;\n",
       "    }\n",
       "</style>\n",
       "<table border=\"1\" class=\"dataframe\">\n",
       "  <thead>\n",
       "    <tr style=\"text-align: right;\">\n",
       "      <th></th>\n",
       "      <th>Price</th>\n",
       "      <th>Prod. year</th>\n",
       "      <th>Fuel type</th>\n",
       "      <th>Engine volume</th>\n",
       "      <th>Mileage</th>\n",
       "      <th>Cylinders</th>\n",
       "      <th>Gear box type</th>\n",
       "      <th>Drive wheels</th>\n",
       "      <th>Doors</th>\n",
       "      <th>Wheel</th>\n",
       "      <th>...</th>\n",
       "      <th>Manufacturer_TOYOTA</th>\n",
       "      <th>Turbo</th>\n",
       "      <th>Leather interior_Yes</th>\n",
       "      <th>Category_Coupe</th>\n",
       "      <th>Category_Hatchback</th>\n",
       "      <th>Category_Jeep</th>\n",
       "      <th>Category_Minivan</th>\n",
       "      <th>Category_Other</th>\n",
       "      <th>Category_Sedan</th>\n",
       "      <th>Category_Universal</th>\n",
       "    </tr>\n",
       "  </thead>\n",
       "  <tbody>\n",
       "    <tr>\n",
       "      <th>0</th>\n",
       "      <td>13328</td>\n",
       "      <td>2010</td>\n",
       "      <td>Hybrid</td>\n",
       "      <td>3.5</td>\n",
       "      <td>186005</td>\n",
       "      <td>6</td>\n",
       "      <td>Automatic</td>\n",
       "      <td>4x4</td>\n",
       "      <td>04-May</td>\n",
       "      <td>Left wheel</td>\n",
       "      <td>...</td>\n",
       "      <td>0</td>\n",
       "      <td>0</td>\n",
       "      <td>1</td>\n",
       "      <td>0</td>\n",
       "      <td>0</td>\n",
       "      <td>1</td>\n",
       "      <td>0</td>\n",
       "      <td>0</td>\n",
       "      <td>0</td>\n",
       "      <td>0</td>\n",
       "    </tr>\n",
       "    <tr>\n",
       "      <th>1</th>\n",
       "      <td>16621</td>\n",
       "      <td>2011</td>\n",
       "      <td>Petrol</td>\n",
       "      <td>3.0</td>\n",
       "      <td>192000</td>\n",
       "      <td>6</td>\n",
       "      <td>Tiptronic</td>\n",
       "      <td>4x4</td>\n",
       "      <td>04-May</td>\n",
       "      <td>Left wheel</td>\n",
       "      <td>...</td>\n",
       "      <td>0</td>\n",
       "      <td>0</td>\n",
       "      <td>0</td>\n",
       "      <td>0</td>\n",
       "      <td>0</td>\n",
       "      <td>1</td>\n",
       "      <td>0</td>\n",
       "      <td>0</td>\n",
       "      <td>0</td>\n",
       "      <td>0</td>\n",
       "    </tr>\n",
       "    <tr>\n",
       "      <th>2</th>\n",
       "      <td>8467</td>\n",
       "      <td>2006</td>\n",
       "      <td>Petrol</td>\n",
       "      <td>1.3</td>\n",
       "      <td>200000</td>\n",
       "      <td>4</td>\n",
       "      <td>Variator</td>\n",
       "      <td>Front</td>\n",
       "      <td>04-May</td>\n",
       "      <td>Right-hand drive</td>\n",
       "      <td>...</td>\n",
       "      <td>0</td>\n",
       "      <td>0</td>\n",
       "      <td>0</td>\n",
       "      <td>0</td>\n",
       "      <td>1</td>\n",
       "      <td>0</td>\n",
       "      <td>0</td>\n",
       "      <td>0</td>\n",
       "      <td>0</td>\n",
       "      <td>0</td>\n",
       "    </tr>\n",
       "    <tr>\n",
       "      <th>3</th>\n",
       "      <td>3607</td>\n",
       "      <td>2011</td>\n",
       "      <td>Hybrid</td>\n",
       "      <td>2.5</td>\n",
       "      <td>168966</td>\n",
       "      <td>4</td>\n",
       "      <td>Automatic</td>\n",
       "      <td>4x4</td>\n",
       "      <td>04-May</td>\n",
       "      <td>Left wheel</td>\n",
       "      <td>...</td>\n",
       "      <td>0</td>\n",
       "      <td>0</td>\n",
       "      <td>1</td>\n",
       "      <td>0</td>\n",
       "      <td>0</td>\n",
       "      <td>1</td>\n",
       "      <td>0</td>\n",
       "      <td>0</td>\n",
       "      <td>0</td>\n",
       "      <td>0</td>\n",
       "    </tr>\n",
       "    <tr>\n",
       "      <th>4</th>\n",
       "      <td>11726</td>\n",
       "      <td>2014</td>\n",
       "      <td>Petrol</td>\n",
       "      <td>1.3</td>\n",
       "      <td>91901</td>\n",
       "      <td>4</td>\n",
       "      <td>Automatic</td>\n",
       "      <td>Front</td>\n",
       "      <td>04-May</td>\n",
       "      <td>Left wheel</td>\n",
       "      <td>...</td>\n",
       "      <td>0</td>\n",
       "      <td>0</td>\n",
       "      <td>1</td>\n",
       "      <td>0</td>\n",
       "      <td>1</td>\n",
       "      <td>0</td>\n",
       "      <td>0</td>\n",
       "      <td>0</td>\n",
       "      <td>0</td>\n",
       "      <td>0</td>\n",
       "    </tr>\n",
       "  </tbody>\n",
       "</table>\n",
       "<p>5 rows × 28 columns</p>\n",
       "</div>"
      ],
      "text/plain": [
       "   Price  Prod. year Fuel type  Engine volume  Mileage  Cylinders  \\\n",
       "0  13328        2010    Hybrid            3.5   186005          6   \n",
       "1  16621        2011    Petrol            3.0   192000          6   \n",
       "2   8467        2006    Petrol            1.3   200000          4   \n",
       "3   3607        2011    Hybrid            2.5   168966          4   \n",
       "4  11726        2014    Petrol            1.3    91901          4   \n",
       "\n",
       "  Gear box type Drive wheels   Doors             Wheel  ...  \\\n",
       "0     Automatic          4x4  04-May        Left wheel  ...   \n",
       "1     Tiptronic          4x4  04-May        Left wheel  ...   \n",
       "2      Variator        Front  04-May  Right-hand drive  ...   \n",
       "3     Automatic          4x4  04-May        Left wheel  ...   \n",
       "4     Automatic        Front  04-May        Left wheel  ...   \n",
       "\n",
       "  Manufacturer_TOYOTA  Turbo  Leather interior_Yes  Category_Coupe  \\\n",
       "0                   0      0                     1               0   \n",
       "1                   0      0                     0               0   \n",
       "2                   0      0                     0               0   \n",
       "3                   0      0                     1               0   \n",
       "4                   0      0                     1               0   \n",
       "\n",
       "   Category_Hatchback  Category_Jeep  Category_Minivan  Category_Other  \\\n",
       "0                   0              1                 0               0   \n",
       "1                   0              1                 0               0   \n",
       "2                   1              0                 0               0   \n",
       "3                   0              1                 0               0   \n",
       "4                   1              0                 0               0   \n",
       "\n",
       "   Category_Sedan  Category_Universal  \n",
       "0               0                   0  \n",
       "1               0                   0  \n",
       "2               0                   0  \n",
       "3               0                   0  \n",
       "4               0                   0  \n",
       "\n",
       "[5 rows x 28 columns]"
      ]
     },
     "execution_count": 153,
     "metadata": {},
     "output_type": "execute_result"
    }
   ],
   "source": [
    "df.head()"
   ]
  },
  {
   "cell_type": "code",
   "execution_count": 154,
   "id": "876d559e",
   "metadata": {},
   "outputs": [
    {
     "name": "stdout",
     "output_type": "stream",
     "text": [
      "<class 'pandas.core.frame.DataFrame'>\n",
      "Int64Index: 17869 entries, 0 to 19236\n",
      "Data columns (total 28 columns):\n",
      " #   Column                      Non-Null Count  Dtype  \n",
      "---  ------                      --------------  -----  \n",
      " 0   Price                       17869 non-null  int64  \n",
      " 1   Prod. year                  17869 non-null  int64  \n",
      " 2   Fuel type                   17869 non-null  object \n",
      " 3   Engine volume               17869 non-null  float64\n",
      " 4   Mileage                     17869 non-null  int32  \n",
      " 5   Cylinders                   17869 non-null  int32  \n",
      " 6   Gear box type               17869 non-null  object \n",
      " 7   Drive wheels                17869 non-null  object \n",
      " 8   Doors                       17869 non-null  object \n",
      " 9   Wheel                       17869 non-null  object \n",
      " 10  Color                       17869 non-null  object \n",
      " 11  Airbags                     17869 non-null  int64  \n",
      " 12  Manufacturer_BMW            17869 non-null  uint8  \n",
      " 13  Manufacturer_CHEVROLET      17869 non-null  uint8  \n",
      " 14  Manufacturer_FORD           17869 non-null  uint8  \n",
      " 15  Manufacturer_HYUNDAI        17869 non-null  uint8  \n",
      " 16  Manufacturer_MERCEDES-BENZ  17869 non-null  uint8  \n",
      " 17  Manufacturer_Other          17869 non-null  uint8  \n",
      " 18  Manufacturer_TOYOTA         17869 non-null  uint8  \n",
      " 19  Turbo                       17869 non-null  int64  \n",
      " 20  Leather interior_Yes        17869 non-null  uint8  \n",
      " 21  Category_Coupe              17869 non-null  uint8  \n",
      " 22  Category_Hatchback          17869 non-null  uint8  \n",
      " 23  Category_Jeep               17869 non-null  uint8  \n",
      " 24  Category_Minivan            17869 non-null  uint8  \n",
      " 25  Category_Other              17869 non-null  uint8  \n",
      " 26  Category_Sedan              17869 non-null  uint8  \n",
      " 27  Category_Universal          17869 non-null  uint8  \n",
      "dtypes: float64(1), int32(2), int64(4), object(6), uint8(15)\n",
      "memory usage: 2.5+ MB\n"
     ]
    }
   ],
   "source": [
    "df.info()"
   ]
  },
  {
   "cell_type": "markdown",
   "id": "10d6a468",
   "metadata": {},
   "source": [
    "#### 12) Fuel type"
   ]
  },
  {
   "cell_type": "code",
   "execution_count": 155,
   "id": "de40a226",
   "metadata": {
    "scrolled": true
   },
   "outputs": [
    {
     "data": {
      "text/plain": [
       "count      17869\n",
       "unique         7\n",
       "top       Petrol\n",
       "freq        9309\n",
       "Name: Fuel type, dtype: object"
      ]
     },
     "execution_count": 155,
     "metadata": {},
     "output_type": "execute_result"
    }
   ],
   "source": [
    "df[\"Fuel type\"].describe()"
   ]
  },
  {
   "cell_type": "code",
   "execution_count": 156,
   "id": "a8e3e921",
   "metadata": {},
   "outputs": [
    {
     "data": {
      "text/plain": [
       "<AxesSubplot:xlabel='Fuel type', ylabel='Price'>"
      ]
     },
     "execution_count": 156,
     "metadata": {},
     "output_type": "execute_result"
    },
    {
     "data": {
      "image/png": "[encoded data removed]",
      "text/plain": [
       "<Figure size 1008x864 with 1 Axes>"
      ]
     },
     "metadata": {},
     "output_type": "display_data"
    }
   ],
   "source": [
    "sns.barplot(x=\"Fuel type\",y=\"Price\",data=df)"
   ]
  },
  {
   "cell_type": "code",
   "execution_count": 157,
   "id": "9993af36",
   "metadata": {},
   "outputs": [
    {
     "data": {
      "text/plain": [
       "<AxesSubplot:xlabel='Fuel type', ylabel='count'>"
      ]
     },
     "execution_count": 157,
     "metadata": {},
     "output_type": "execute_result"
    },
    {
     "data": {
      "image/png": "[encoded data removed]",
      "text/plain": [
       "<Figure size 1008x864 with 1 Axes>"
      ]
     },
     "metadata": {},
     "output_type": "display_data"
    }
   ],
   "source": [
    "sns.countplot(x=\"Fuel type\",data=df)"
   ]
  },
  {
   "cell_type": "code",
   "execution_count": 158,
   "id": "d25b4dbf",
   "metadata": {},
   "outputs": [],
   "source": [
    "df=pd.get_dummies(df,columns=[\"Fuel type\"],drop_first=True)"
   ]
  },
  {
   "cell_type": "code",
   "execution_count": 159,
   "id": "4f58d913",
   "metadata": {},
   "outputs": [
    {
     "name": "stdout",
     "output_type": "stream",
     "text": [
      "<class 'pandas.core.frame.DataFrame'>\n",
      "Int64Index: 17869 entries, 0 to 19236\n",
      "Data columns (total 33 columns):\n",
      " #   Column                      Non-Null Count  Dtype  \n",
      "---  ------                      --------------  -----  \n",
      " 0   Price                       17869 non-null  int64  \n",
      " 1   Prod. year                  17869 non-null  int64  \n",
      " 2   Engine volume               17869 non-null  float64\n",
      " 3   Mileage                     17869 non-null  int32  \n",
      " 4   Cylinders                   17869 non-null  int32  \n",
      " 5   Gear box type               17869 non-null  object \n",
      " 6   Drive wheels                17869 non-null  object \n",
      " 7   Doors                       17869 non-null  object \n",
      " 8   Wheel                       17869 non-null  object \n",
      " 9   Color                       17869 non-null  object \n",
      " 10  Airbags                     17869 non-null  int64  \n",
      " 11  Manufacturer_BMW            17869 non-null  uint8  \n",
      " 12  Manufacturer_CHEVROLET      17869 non-null  uint8  \n",
      " 13  Manufacturer_FORD           17869 non-null  uint8  \n",
      " 14  Manufacturer_HYUNDAI        17869 non-null  uint8  \n",
      " 15  Manufacturer_MERCEDES-BENZ  17869 non-null  uint8  \n",
      " 16  Manufacturer_Other          17869 non-null  uint8  \n",
      " 17  Manufacturer_TOYOTA         17869 non-null  uint8  \n",
      " 18  Turbo                       17869 non-null  int64  \n",
      " 19  Leather interior_Yes        17869 non-null  uint8  \n",
      " 20  Category_Coupe              17869 non-null  uint8  \n",
      " 21  Category_Hatchback          17869 non-null  uint8  \n",
      " 22  Category_Jeep               17869 non-null  uint8  \n",
      " 23  Category_Minivan            17869 non-null  uint8  \n",
      " 24  Category_Other              17869 non-null  uint8  \n",
      " 25  Category_Sedan              17869 non-null  uint8  \n",
      " 26  Category_Universal          17869 non-null  uint8  \n",
      " 27  Fuel type_Diesel            17869 non-null  uint8  \n",
      " 28  Fuel type_Hybrid            17869 non-null  uint8  \n",
      " 29  Fuel type_Hydrogen          17869 non-null  uint8  \n",
      " 30  Fuel type_LPG               17869 non-null  uint8  \n",
      " 31  Fuel type_Petrol            17869 non-null  uint8  \n",
      " 32  Fuel type_Plug-in Hybrid    17869 non-null  uint8  \n",
      "dtypes: float64(1), int32(2), int64(4), object(5), uint8(21)\n",
      "memory usage: 2.5+ MB\n"
     ]
    }
   ],
   "source": [
    "df.info()"
   ]
  },
  {
   "cell_type": "markdown",
   "id": "fc3d876e",
   "metadata": {},
   "source": [
    "#### 13)Gear box type"
   ]
  },
  {
   "cell_type": "code",
   "execution_count": 160,
   "id": "7735d46c",
   "metadata": {},
   "outputs": [
    {
     "data": {
      "text/plain": [
       "count         17869\n",
       "unique            4\n",
       "top       Automatic\n",
       "freq          12593\n",
       "Name: Gear box type, dtype: object"
      ]
     },
     "execution_count": 160,
     "metadata": {},
     "output_type": "execute_result"
    }
   ],
   "source": [
    "df[\"Gear box type\"].describe()"
   ]
  },
  {
   "cell_type": "code",
   "execution_count": 161,
   "id": "437d17a3",
   "metadata": {},
   "outputs": [
    {
     "data": {
      "text/plain": [
       "<AxesSubplot:xlabel='Gear box type', ylabel='Price'>"
      ]
     },
     "execution_count": 161,
     "metadata": {},
     "output_type": "execute_result"
    },
    {
     "data": {
      "image/png": "[encoded data removed]",
      "text/plain": [
       "<Figure size 1008x864 with 1 Axes>"
      ]
     },
     "metadata": {},
     "output_type": "display_data"
    }
   ],
   "source": [
    "sns.barplot(x=\"Gear box type\",y=\"Price\",data=df)"
   ]
  },
  {
   "cell_type": "code",
   "execution_count": 162,
   "id": "7c322dd9",
   "metadata": {},
   "outputs": [
    {
     "data": {
      "text/plain": [
       "<AxesSubplot:xlabel='Gear box type', ylabel='Price'>"
      ]
     },
     "execution_count": 162,
     "metadata": {},
     "output_type": "execute_result"
    },
    {
     "data": {
      "image/png": "[encoded data removed]",
      "text/plain": [
       "<Figure size 1008x864 with 1 Axes>"
      ]
     },
     "metadata": {},
     "output_type": "display_data"
    }
   ],
   "source": [
    "sns.boxplot(x=\"Gear box type\",y=\"Price\",data=df)"
   ]
  },
  {
   "cell_type": "code",
   "execution_count": 163,
   "id": "1298f46b",
   "metadata": {},
   "outputs": [
    {
     "data": {
      "text/plain": [
       "<AxesSubplot:xlabel='Gear box type', ylabel='count'>"
      ]
     },
     "execution_count": 163,
     "metadata": {},
     "output_type": "execute_result"
    },
    {
     "data": {
      "image/png": "[encoded data removed]",
      "text/plain": [
       "<Figure size 1008x864 with 1 Axes>"
      ]
     },
     "metadata": {},
     "output_type": "display_data"
    }
   ],
   "source": [
    "sns.countplot(x=\"Gear box type\",data=df)"
   ]
  },
  {
   "cell_type": "code",
   "execution_count": 164,
   "id": "99d0f6a1",
   "metadata": {},
   "outputs": [
    {
     "data": {
      "text/plain": [
       "Automatic    12593\n",
       "Tiptronic     2736\n",
       "Name: Gear box type, dtype: int64"
      ]
     },
     "execution_count": 164,
     "metadata": {},
     "output_type": "execute_result"
    }
   ],
   "source": [
    "n_Gearboxtype=df['Gear box type'].value_counts().head(2)\n",
    "n_Gearboxtype"
   ]
  },
  {
   "cell_type": "code",
   "execution_count": 165,
   "id": "b8edf90a",
   "metadata": {},
   "outputs": [
    {
     "data": {
      "text/plain": [
       "Index(['Automatic', 'Tiptronic'], dtype='object')"
      ]
     },
     "execution_count": 165,
     "metadata": {},
     "output_type": "execute_result"
    }
   ],
   "source": [
    "Gearboxtype=n_Gearboxtype.index\n",
    "Gearboxtype"
   ]
  },
  {
   "cell_type": "code",
   "execution_count": 166,
   "id": "87aa7d19",
   "metadata": {},
   "outputs": [],
   "source": [
    "df[\"Gear box type\"]=df[\"Gear box type\"].apply(lambda x: x if x in Gearboxtype else \"Other\" )"
   ]
  },
  {
   "cell_type": "code",
   "execution_count": 167,
   "id": "ced11708",
   "metadata": {},
   "outputs": [],
   "source": [
    "df=pd.get_dummies(df,columns=[\"Gear box type\"])"
   ]
  },
  {
   "cell_type": "code",
   "execution_count": 168,
   "id": "1cf89b62",
   "metadata": {},
   "outputs": [
    {
     "name": "stdout",
     "output_type": "stream",
     "text": [
      "<class 'pandas.core.frame.DataFrame'>\n",
      "Int64Index: 17869 entries, 0 to 19236\n",
      "Data columns (total 35 columns):\n",
      " #   Column                      Non-Null Count  Dtype  \n",
      "---  ------                      --------------  -----  \n",
      " 0   Price                       17869 non-null  int64  \n",
      " 1   Prod. year                  17869 non-null  int64  \n",
      " 2   Engine volume               17869 non-null  float64\n",
      " 3   Mileage                     17869 non-null  int32  \n",
      " 4   Cylinders                   17869 non-null  int32  \n",
      " 5   Drive wheels                17869 non-null  object \n",
      " 6   Doors                       17869 non-null  object \n",
      " 7   Wheel                       17869 non-null  object \n",
      " 8   Color                       17869 non-null  object \n",
      " 9   Airbags                     17869 non-null  int64  \n",
      " 10  Manufacturer_BMW            17869 non-null  uint8  \n",
      " 11  Manufacturer_CHEVROLET      17869 non-null  uint8  \n",
      " 12  Manufacturer_FORD           17869 non-null  uint8  \n",
      " 13  Manufacturer_HYUNDAI        17869 non-null  uint8  \n",
      " 14  Manufacturer_MERCEDES-BENZ  17869 non-null  uint8  \n",
      " 15  Manufacturer_Other          17869 non-null  uint8  \n",
      " 16  Manufacturer_TOYOTA         17869 non-null  uint8  \n",
      " 17  Turbo                       17869 non-null  int64  \n",
      " 18  Leather interior_Yes        17869 non-null  uint8  \n",
      " 19  Category_Coupe              17869 non-null  uint8  \n",
      " 20  Category_Hatchback          17869 non-null  uint8  \n",
      " 21  Category_Jeep               17869 non-null  uint8  \n",
      " 22  Category_Minivan            17869 non-null  uint8  \n",
      " 23  Category_Other              17869 non-null  uint8  \n",
      " 24  Category_Sedan              17869 non-null  uint8  \n",
      " 25  Category_Universal          17869 non-null  uint8  \n",
      " 26  Fuel type_Diesel            17869 non-null  uint8  \n",
      " 27  Fuel type_Hybrid            17869 non-null  uint8  \n",
      " 28  Fuel type_Hydrogen          17869 non-null  uint8  \n",
      " 29  Fuel type_LPG               17869 non-null  uint8  \n",
      " 30  Fuel type_Petrol            17869 non-null  uint8  \n",
      " 31  Fuel type_Plug-in Hybrid    17869 non-null  uint8  \n",
      " 32  Gear box type_Automatic     17869 non-null  uint8  \n",
      " 33  Gear box type_Other         17869 non-null  uint8  \n",
      " 34  Gear box type_Tiptronic     17869 non-null  uint8  \n",
      "dtypes: float64(1), int32(2), int64(4), object(4), uint8(24)\n",
      "memory usage: 2.4+ MB\n"
     ]
    }
   ],
   "source": [
    "df.info()"
   ]
  },
  {
   "cell_type": "markdown",
   "id": "39147aa1",
   "metadata": {},
   "source": [
    "#### 14) Drive wheels"
   ]
  },
  {
   "cell_type": "code",
   "execution_count": 169,
   "id": "e7dcab52",
   "metadata": {},
   "outputs": [
    {
     "data": {
      "text/plain": [
       "count     17869\n",
       "unique        3\n",
       "top       Front\n",
       "freq      12155\n",
       "Name: Drive wheels, dtype: object"
      ]
     },
     "execution_count": 169,
     "metadata": {},
     "output_type": "execute_result"
    }
   ],
   "source": [
    "df[\"Drive wheels\"].describe()"
   ]
  },
  {
   "cell_type": "code",
   "execution_count": 170,
   "id": "3cd3617b",
   "metadata": {},
   "outputs": [
    {
     "data": {
      "text/plain": [
       "<AxesSubplot:xlabel='Drive wheels', ylabel='Price'>"
      ]
     },
     "execution_count": 170,
     "metadata": {},
     "output_type": "execute_result"
    },
    {
     "data": {
      "image/png": "[encoded data removed]",
      "text/plain": [
       "<Figure size 1008x864 with 1 Axes>"
      ]
     },
     "metadata": {},
     "output_type": "display_data"
    }
   ],
   "source": [
    "sns.boxplot(x=\"Drive wheels\",y='Price',data=df)"
   ]
  },
  {
   "cell_type": "code",
   "execution_count": 171,
   "id": "50ec1757",
   "metadata": {},
   "outputs": [],
   "source": [
    "df=pd.get_dummies(df,columns=[\"Drive wheels\"],drop_first=True)"
   ]
  },
  {
   "cell_type": "markdown",
   "id": "b4c9c82e",
   "metadata": {},
   "source": [
    "#### 15) Doors"
   ]
  },
  {
   "cell_type": "code",
   "execution_count": 172,
   "id": "e252ddb4",
   "metadata": {},
   "outputs": [],
   "source": [
    "df.drop([\"Doors\"],inplace=True,axis=1)"
   ]
  },
  {
   "cell_type": "code",
   "execution_count": 173,
   "id": "6574fa84",
   "metadata": {},
   "outputs": [],
   "source": [
    "#df[\"Doors\"].describe()"
   ]
  },
  {
   "cell_type": "code",
   "execution_count": 174,
   "id": "23fd12b9",
   "metadata": {},
   "outputs": [],
   "source": [
    "#df['Doors'].value_counts()"
   ]
  },
  {
   "cell_type": "code",
   "execution_count": 175,
   "id": "d603b68d",
   "metadata": {},
   "outputs": [],
   "source": [
    "#for i in range(len(df)):\n",
    "    #df.iloc[i,5]=df.iloc[i,5].replace(\"-Mar\",\"\")\n",
    "\n"
   ]
  },
  {
   "cell_type": "code",
   "execution_count": 176,
   "id": "14d4f2dd",
   "metadata": {},
   "outputs": [],
   "source": [
    "#for i in range(len(df)):\n",
    "#df.iloc[i,5]=df.iloc[i,5].replace(\"-May\",\"\")"
   ]
  },
  {
   "cell_type": "code",
   "execution_count": 177,
   "id": "b5aa593d",
   "metadata": {},
   "outputs": [],
   "source": [
    "#for i in range(len(df)):\n",
    "  #  df.iloc[i,5]=df.iloc[i,5].replace(\">5\",\"+5\")    "
   ]
  },
  {
   "cell_type": "code",
   "execution_count": 178,
   "id": "71e8241b",
   "metadata": {},
   "outputs": [
    {
     "data": {
      "text/html": [
       "<div>\n",
       "<style scoped>\n",
       "    .dataframe tbody tr th:only-of-type {\n",
       "        vertical-align: middle;\n",
       "    }\n",
       "\n",
       "    .dataframe tbody tr th {\n",
       "        vertical-align: top;\n",
       "    }\n",
       "\n",
       "    .dataframe thead th {\n",
       "        text-align: right;\n",
       "    }\n",
       "</style>\n",
       "<table border=\"1\" class=\"dataframe\">\n",
       "  <thead>\n",
       "    <tr style=\"text-align: right;\">\n",
       "      <th></th>\n",
       "      <th>Price</th>\n",
       "      <th>Prod. year</th>\n",
       "      <th>Engine volume</th>\n",
       "      <th>Mileage</th>\n",
       "      <th>Cylinders</th>\n",
       "      <th>Wheel</th>\n",
       "      <th>Color</th>\n",
       "      <th>Airbags</th>\n",
       "      <th>Manufacturer_BMW</th>\n",
       "      <th>Manufacturer_CHEVROLET</th>\n",
       "      <th>...</th>\n",
       "      <th>Fuel type_Hybrid</th>\n",
       "      <th>Fuel type_Hydrogen</th>\n",
       "      <th>Fuel type_LPG</th>\n",
       "      <th>Fuel type_Petrol</th>\n",
       "      <th>Fuel type_Plug-in Hybrid</th>\n",
       "      <th>Gear box type_Automatic</th>\n",
       "      <th>Gear box type_Other</th>\n",
       "      <th>Gear box type_Tiptronic</th>\n",
       "      <th>Drive wheels_Front</th>\n",
       "      <th>Drive wheels_Rear</th>\n",
       "    </tr>\n",
       "  </thead>\n",
       "  <tbody>\n",
       "    <tr>\n",
       "      <th>0</th>\n",
       "      <td>13328</td>\n",
       "      <td>2010</td>\n",
       "      <td>3.5</td>\n",
       "      <td>186005</td>\n",
       "      <td>6</td>\n",
       "      <td>Left wheel</td>\n",
       "      <td>Silver</td>\n",
       "      <td>12</td>\n",
       "      <td>0</td>\n",
       "      <td>0</td>\n",
       "      <td>...</td>\n",
       "      <td>1</td>\n",
       "      <td>0</td>\n",
       "      <td>0</td>\n",
       "      <td>0</td>\n",
       "      <td>0</td>\n",
       "      <td>1</td>\n",
       "      <td>0</td>\n",
       "      <td>0</td>\n",
       "      <td>0</td>\n",
       "      <td>0</td>\n",
       "    </tr>\n",
       "    <tr>\n",
       "      <th>1</th>\n",
       "      <td>16621</td>\n",
       "      <td>2011</td>\n",
       "      <td>3.0</td>\n",
       "      <td>192000</td>\n",
       "      <td>6</td>\n",
       "      <td>Left wheel</td>\n",
       "      <td>Black</td>\n",
       "      <td>8</td>\n",
       "      <td>0</td>\n",
       "      <td>1</td>\n",
       "      <td>...</td>\n",
       "      <td>0</td>\n",
       "      <td>0</td>\n",
       "      <td>0</td>\n",
       "      <td>1</td>\n",
       "      <td>0</td>\n",
       "      <td>0</td>\n",
       "      <td>0</td>\n",
       "      <td>1</td>\n",
       "      <td>0</td>\n",
       "      <td>0</td>\n",
       "    </tr>\n",
       "    <tr>\n",
       "      <th>2</th>\n",
       "      <td>8467</td>\n",
       "      <td>2006</td>\n",
       "      <td>1.3</td>\n",
       "      <td>200000</td>\n",
       "      <td>4</td>\n",
       "      <td>Right-hand drive</td>\n",
       "      <td>Black</td>\n",
       "      <td>2</td>\n",
       "      <td>0</td>\n",
       "      <td>0</td>\n",
       "      <td>...</td>\n",
       "      <td>0</td>\n",
       "      <td>0</td>\n",
       "      <td>0</td>\n",
       "      <td>1</td>\n",
       "      <td>0</td>\n",
       "      <td>0</td>\n",
       "      <td>1</td>\n",
       "      <td>0</td>\n",
       "      <td>1</td>\n",
       "      <td>0</td>\n",
       "    </tr>\n",
       "    <tr>\n",
       "      <th>3</th>\n",
       "      <td>3607</td>\n",
       "      <td>2011</td>\n",
       "      <td>2.5</td>\n",
       "      <td>168966</td>\n",
       "      <td>4</td>\n",
       "      <td>Left wheel</td>\n",
       "      <td>White</td>\n",
       "      <td>0</td>\n",
       "      <td>0</td>\n",
       "      <td>0</td>\n",
       "      <td>...</td>\n",
       "      <td>1</td>\n",
       "      <td>0</td>\n",
       "      <td>0</td>\n",
       "      <td>0</td>\n",
       "      <td>0</td>\n",
       "      <td>1</td>\n",
       "      <td>0</td>\n",
       "      <td>0</td>\n",
       "      <td>0</td>\n",
       "      <td>0</td>\n",
       "    </tr>\n",
       "    <tr>\n",
       "      <th>4</th>\n",
       "      <td>11726</td>\n",
       "      <td>2014</td>\n",
       "      <td>1.3</td>\n",
       "      <td>91901</td>\n",
       "      <td>4</td>\n",
       "      <td>Left wheel</td>\n",
       "      <td>Silver</td>\n",
       "      <td>4</td>\n",
       "      <td>0</td>\n",
       "      <td>0</td>\n",
       "      <td>...</td>\n",
       "      <td>0</td>\n",
       "      <td>0</td>\n",
       "      <td>0</td>\n",
       "      <td>1</td>\n",
       "      <td>0</td>\n",
       "      <td>1</td>\n",
       "      <td>0</td>\n",
       "      <td>0</td>\n",
       "      <td>1</td>\n",
       "      <td>0</td>\n",
       "    </tr>\n",
       "  </tbody>\n",
       "</table>\n",
       "<p>5 rows × 35 columns</p>\n",
       "</div>"
      ],
      "text/plain": [
       "   Price  Prod. year  Engine volume  Mileage  Cylinders             Wheel  \\\n",
       "0  13328        2010            3.5   186005          6        Left wheel   \n",
       "1  16621        2011            3.0   192000          6        Left wheel   \n",
       "2   8467        2006            1.3   200000          4  Right-hand drive   \n",
       "3   3607        2011            2.5   168966          4        Left wheel   \n",
       "4  11726        2014            1.3    91901          4        Left wheel   \n",
       "\n",
       "    Color  Airbags  Manufacturer_BMW  Manufacturer_CHEVROLET  ...  \\\n",
       "0  Silver       12                 0                       0  ...   \n",
       "1   Black        8                 0                       1  ...   \n",
       "2   Black        2                 0                       0  ...   \n",
       "3   White        0                 0                       0  ...   \n",
       "4  Silver        4                 0                       0  ...   \n",
       "\n",
       "   Fuel type_Hybrid  Fuel type_Hydrogen  Fuel type_LPG  Fuel type_Petrol  \\\n",
       "0                 1                   0              0                 0   \n",
       "1                 0                   0              0                 1   \n",
       "2                 0                   0              0                 1   \n",
       "3                 1                   0              0                 0   \n",
       "4                 0                   0              0                 1   \n",
       "\n",
       "   Fuel type_Plug-in Hybrid  Gear box type_Automatic  Gear box type_Other  \\\n",
       "0                         0                        1                    0   \n",
       "1                         0                        0                    0   \n",
       "2                         0                        0                    1   \n",
       "3                         0                        1                    0   \n",
       "4                         0                        1                    0   \n",
       "\n",
       "   Gear box type_Tiptronic  Drive wheels_Front  Drive wheels_Rear  \n",
       "0                        0                   0                  0  \n",
       "1                        1                   0                  0  \n",
       "2                        0                   1                  0  \n",
       "3                        0                   0                  0  \n",
       "4                        0                   1                  0  \n",
       "\n",
       "[5 rows x 35 columns]"
      ]
     },
     "execution_count": 178,
     "metadata": {},
     "output_type": "execute_result"
    }
   ],
   "source": [
    "df.head()"
   ]
  },
  {
   "cell_type": "code",
   "execution_count": 179,
   "id": "bbbbbd16",
   "metadata": {},
   "outputs": [],
   "source": [
    "#df[\"Doors\"]=df[\"Doors\"].astype(\"int64\")"
   ]
  },
  {
   "cell_type": "markdown",
   "id": "32b2418e",
   "metadata": {},
   "source": [
    "#### 16) Wheel"
   ]
  },
  {
   "cell_type": "code",
   "execution_count": 180,
   "id": "1e503c75",
   "metadata": {},
   "outputs": [
    {
     "data": {
      "text/plain": [
       "count          17869\n",
       "unique             2\n",
       "top       Left wheel\n",
       "freq           16420\n",
       "Name: Wheel, dtype: object"
      ]
     },
     "execution_count": 180,
     "metadata": {},
     "output_type": "execute_result"
    }
   ],
   "source": [
    "df[\"Wheel\"].describe()"
   ]
  },
  {
   "cell_type": "code",
   "execution_count": 181,
   "id": "74aa6a58",
   "metadata": {},
   "outputs": [
    {
     "data": {
      "text/plain": [
       "<AxesSubplot:xlabel='Wheel', ylabel='Price'>"
      ]
     },
     "execution_count": 181,
     "metadata": {},
     "output_type": "execute_result"
    },
    {
     "data": {
      "image/png": "[encoded data removed]",
      "text/plain": [
       "<Figure size 1008x864 with 1 Axes>"
      ]
     },
     "metadata": {},
     "output_type": "display_data"
    }
   ],
   "source": [
    "sns.boxplot(x=\"Wheel\",y=\"Price\",data=df)"
   ]
  },
  {
   "cell_type": "code",
   "execution_count": 182,
   "id": "f6f98dd8",
   "metadata": {},
   "outputs": [],
   "source": [
    "df=pd.get_dummies(df,columns=['Wheel'],drop_first=True)"
   ]
  },
  {
   "cell_type": "code",
   "execution_count": 183,
   "id": "347815cc",
   "metadata": {},
   "outputs": [
    {
     "name": "stdout",
     "output_type": "stream",
     "text": [
      "<class 'pandas.core.frame.DataFrame'>\n",
      "Int64Index: 17869 entries, 0 to 19236\n",
      "Data columns (total 35 columns):\n",
      " #   Column                      Non-Null Count  Dtype  \n",
      "---  ------                      --------------  -----  \n",
      " 0   Price                       17869 non-null  int64  \n",
      " 1   Prod. year                  17869 non-null  int64  \n",
      " 2   Engine volume               17869 non-null  float64\n",
      " 3   Mileage                     17869 non-null  int32  \n",
      " 4   Cylinders                   17869 non-null  int32  \n",
      " 5   Color                       17869 non-null  object \n",
      " 6   Airbags                     17869 non-null  int64  \n",
      " 7   Manufacturer_BMW            17869 non-null  uint8  \n",
      " 8   Manufacturer_CHEVROLET      17869 non-null  uint8  \n",
      " 9   Manufacturer_FORD           17869 non-null  uint8  \n",
      " 10  Manufacturer_HYUNDAI        17869 non-null  uint8  \n",
      " 11  Manufacturer_MERCEDES-BENZ  17869 non-null  uint8  \n",
      " 12  Manufacturer_Other          17869 non-null  uint8  \n",
      " 13  Manufacturer_TOYOTA         17869 non-null  uint8  \n",
      " 14  Turbo                       17869 non-null  int64  \n",
      " 15  Leather interior_Yes        17869 non-null  uint8  \n",
      " 16  Category_Coupe              17869 non-null  uint8  \n",
      " 17  Category_Hatchback          17869 non-null  uint8  \n",
      " 18  Category_Jeep               17869 non-null  uint8  \n",
      " 19  Category_Minivan            17869 non-null  uint8  \n",
      " 20  Category_Other              17869 non-null  uint8  \n",
      " 21  Category_Sedan              17869 non-null  uint8  \n",
      " 22  Category_Universal          17869 non-null  uint8  \n",
      " 23  Fuel type_Diesel            17869 non-null  uint8  \n",
      " 24  Fuel type_Hybrid            17869 non-null  uint8  \n",
      " 25  Fuel type_Hydrogen          17869 non-null  uint8  \n",
      " 26  Fuel type_LPG               17869 non-null  uint8  \n",
      " 27  Fuel type_Petrol            17869 non-null  uint8  \n",
      " 28  Fuel type_Plug-in Hybrid    17869 non-null  uint8  \n",
      " 29  Gear box type_Automatic     17869 non-null  uint8  \n",
      " 30  Gear box type_Other         17869 non-null  uint8  \n",
      " 31  Gear box type_Tiptronic     17869 non-null  uint8  \n",
      " 32  Drive wheels_Front          17869 non-null  uint8  \n",
      " 33  Drive wheels_Rear           17869 non-null  uint8  \n",
      " 34  Wheel_Right-hand drive      17869 non-null  uint8  \n",
      "dtypes: float64(1), int32(2), int64(4), object(1), uint8(27)\n",
      "memory usage: 2.1+ MB\n"
     ]
    }
   ],
   "source": [
    "df.info()"
   ]
  },
  {
   "cell_type": "markdown",
   "id": "dcd2553a",
   "metadata": {},
   "source": [
    "#### 17) Color"
   ]
  },
  {
   "cell_type": "code",
   "execution_count": 184,
   "id": "0b0ab7b9",
   "metadata": {},
   "outputs": [
    {
     "data": {
      "text/plain": [
       "<AxesSubplot:xlabel='Color', ylabel='Price'>"
      ]
     },
     "execution_count": 184,
     "metadata": {},
     "output_type": "execute_result"
    },
    {
     "data": {
      "image/png": "[encoded data removed]",
      "text/plain": [
       "<Figure size 1008x864 with 1 Axes>"
      ]
     },
     "metadata": {},
     "output_type": "display_data"
    }
   ],
   "source": [
    "sns.barplot(y=\"Price\",x='Color',data=df)"
   ]
  },
  {
   "cell_type": "code",
   "execution_count": 185,
   "id": "2fb56476",
   "metadata": {},
   "outputs": [],
   "source": [
    "df.drop([\"Color\"],inplace=True,axis=1)"
   ]
  },
  {
   "cell_type": "code",
   "execution_count": 186,
   "id": "254ef6d1",
   "metadata": {},
   "outputs": [
    {
     "data": {
      "text/html": [
       "<div>\n",
       "<style scoped>\n",
       "    .dataframe tbody tr th:only-of-type {\n",
       "        vertical-align: middle;\n",
       "    }\n",
       "\n",
       "    .dataframe tbody tr th {\n",
       "        vertical-align: top;\n",
       "    }\n",
       "\n",
       "    .dataframe thead th {\n",
       "        text-align: right;\n",
       "    }\n",
       "</style>\n",
       "<table border=\"1\" class=\"dataframe\">\n",
       "  <thead>\n",
       "    <tr style=\"text-align: right;\">\n",
       "      <th></th>\n",
       "      <th>Price</th>\n",
       "      <th>Prod. year</th>\n",
       "      <th>Engine volume</th>\n",
       "      <th>Mileage</th>\n",
       "      <th>Cylinders</th>\n",
       "      <th>Airbags</th>\n",
       "    </tr>\n",
       "  </thead>\n",
       "  <tbody>\n",
       "    <tr>\n",
       "      <th>0</th>\n",
       "      <td>13328</td>\n",
       "      <td>2010</td>\n",
       "      <td>3.5</td>\n",
       "      <td>186005</td>\n",
       "      <td>6</td>\n",
       "      <td>12</td>\n",
       "    </tr>\n",
       "    <tr>\n",
       "      <th>1</th>\n",
       "      <td>16621</td>\n",
       "      <td>2011</td>\n",
       "      <td>3.0</td>\n",
       "      <td>192000</td>\n",
       "      <td>6</td>\n",
       "      <td>8</td>\n",
       "    </tr>\n",
       "    <tr>\n",
       "      <th>2</th>\n",
       "      <td>8467</td>\n",
       "      <td>2006</td>\n",
       "      <td>1.3</td>\n",
       "      <td>200000</td>\n",
       "      <td>4</td>\n",
       "      <td>2</td>\n",
       "    </tr>\n",
       "    <tr>\n",
       "      <th>3</th>\n",
       "      <td>3607</td>\n",
       "      <td>2011</td>\n",
       "      <td>2.5</td>\n",
       "      <td>168966</td>\n",
       "      <td>4</td>\n",
       "      <td>0</td>\n",
       "    </tr>\n",
       "    <tr>\n",
       "      <th>4</th>\n",
       "      <td>11726</td>\n",
       "      <td>2014</td>\n",
       "      <td>1.3</td>\n",
       "      <td>91901</td>\n",
       "      <td>4</td>\n",
       "      <td>4</td>\n",
       "    </tr>\n",
       "    <tr>\n",
       "      <th>...</th>\n",
       "      <td>...</td>\n",
       "      <td>...</td>\n",
       "      <td>...</td>\n",
       "      <td>...</td>\n",
       "      <td>...</td>\n",
       "      <td>...</td>\n",
       "    </tr>\n",
       "    <tr>\n",
       "      <th>19232</th>\n",
       "      <td>8467</td>\n",
       "      <td>1999</td>\n",
       "      <td>2.0</td>\n",
       "      <td>300000</td>\n",
       "      <td>4</td>\n",
       "      <td>5</td>\n",
       "    </tr>\n",
       "    <tr>\n",
       "      <th>19233</th>\n",
       "      <td>15681</td>\n",
       "      <td>2011</td>\n",
       "      <td>2.4</td>\n",
       "      <td>161600</td>\n",
       "      <td>4</td>\n",
       "      <td>8</td>\n",
       "    </tr>\n",
       "    <tr>\n",
       "      <th>19234</th>\n",
       "      <td>26108</td>\n",
       "      <td>2010</td>\n",
       "      <td>2.0</td>\n",
       "      <td>116365</td>\n",
       "      <td>4</td>\n",
       "      <td>4</td>\n",
       "    </tr>\n",
       "    <tr>\n",
       "      <th>19235</th>\n",
       "      <td>5331</td>\n",
       "      <td>2007</td>\n",
       "      <td>2.0</td>\n",
       "      <td>51258</td>\n",
       "      <td>4</td>\n",
       "      <td>4</td>\n",
       "    </tr>\n",
       "    <tr>\n",
       "      <th>19236</th>\n",
       "      <td>470</td>\n",
       "      <td>2012</td>\n",
       "      <td>2.4</td>\n",
       "      <td>186923</td>\n",
       "      <td>4</td>\n",
       "      <td>12</td>\n",
       "    </tr>\n",
       "  </tbody>\n",
       "</table>\n",
       "<p>17869 rows × 6 columns</p>\n",
       "</div>"
      ],
      "text/plain": [
       "       Price  Prod. year  Engine volume  Mileage  Cylinders  Airbags\n",
       "0      13328        2010            3.5   186005          6       12\n",
       "1      16621        2011            3.0   192000          6        8\n",
       "2       8467        2006            1.3   200000          4        2\n",
       "3       3607        2011            2.5   168966          4        0\n",
       "4      11726        2014            1.3    91901          4        4\n",
       "...      ...         ...            ...      ...        ...      ...\n",
       "19232   8467        1999            2.0   300000          4        5\n",
       "19233  15681        2011            2.4   161600          4        8\n",
       "19234  26108        2010            2.0   116365          4        4\n",
       "19235   5331        2007            2.0    51258          4        4\n",
       "19236    470        2012            2.4   186923          4       12\n",
       "\n",
       "[17869 rows x 6 columns]"
      ]
     },
     "execution_count": 186,
     "metadata": {},
     "output_type": "execute_result"
    }
   ],
   "source": [
    "df.iloc[:,0:6]"
   ]
  },
  {
   "cell_type": "markdown",
   "id": "5a2cb268",
   "metadata": {},
   "source": [
    "## step4: Model"
   ]
  },
  {
   "cell_type": "markdown",
   "id": "b8b881cb",
   "metadata": {},
   "source": [
    "#### 1) split data"
   ]
  },
  {
   "cell_type": "code",
   "execution_count": 187,
   "id": "b97cf713",
   "metadata": {},
   "outputs": [
    {
     "data": {
      "text/plain": [
       "count    17869.000000\n",
       "mean     14040.091779\n",
       "std      11383.928975\n",
       "min          1.000000\n",
       "25%       4861.000000\n",
       "50%      12231.000000\n",
       "75%      20071.000000\n",
       "max      47120.000000\n",
       "Name: Price, dtype: float64"
      ]
     },
     "execution_count": 187,
     "metadata": {},
     "output_type": "execute_result"
    }
   ],
   "source": [
    "df[\"Price\"].describe()"
   ]
  },
  {
   "cell_type": "code",
   "execution_count": 188,
   "id": "99384a8a",
   "metadata": {},
   "outputs": [],
   "source": [
    "df[\"class_price\"]=0\n",
    "for i in range (241):\n",
    "    df[\"class_price\"]=df[\"class_price\"].mask(df[\"Price\"].between((i*200),((i+1)*200)),i)"
   ]
  },
  {
   "cell_type": "code",
   "execution_count": 189,
   "id": "9a51c9cc",
   "metadata": {},
   "outputs": [
    {
     "data": {
      "text/html": [
       "<div>\n",
       "<style scoped>\n",
       "    .dataframe tbody tr th:only-of-type {\n",
       "        vertical-align: middle;\n",
       "    }\n",
       "\n",
       "    .dataframe tbody tr th {\n",
       "        vertical-align: top;\n",
       "    }\n",
       "\n",
       "    .dataframe thead th {\n",
       "        text-align: right;\n",
       "    }\n",
       "</style>\n",
       "<table border=\"1\" class=\"dataframe\">\n",
       "  <thead>\n",
       "    <tr style=\"text-align: right;\">\n",
       "      <th></th>\n",
       "      <th>Price</th>\n",
       "      <th>Prod. year</th>\n",
       "      <th>Engine volume</th>\n",
       "      <th>Mileage</th>\n",
       "      <th>Cylinders</th>\n",
       "      <th>Airbags</th>\n",
       "      <th>Manufacturer_BMW</th>\n",
       "      <th>Manufacturer_CHEVROLET</th>\n",
       "      <th>Manufacturer_FORD</th>\n",
       "      <th>Manufacturer_HYUNDAI</th>\n",
       "      <th>...</th>\n",
       "      <th>Fuel type_LPG</th>\n",
       "      <th>Fuel type_Petrol</th>\n",
       "      <th>Fuel type_Plug-in Hybrid</th>\n",
       "      <th>Gear box type_Automatic</th>\n",
       "      <th>Gear box type_Other</th>\n",
       "      <th>Gear box type_Tiptronic</th>\n",
       "      <th>Drive wheels_Front</th>\n",
       "      <th>Drive wheels_Rear</th>\n",
       "      <th>Wheel_Right-hand drive</th>\n",
       "      <th>class_price</th>\n",
       "    </tr>\n",
       "  </thead>\n",
       "  <tbody>\n",
       "    <tr>\n",
       "      <th>0</th>\n",
       "      <td>13328</td>\n",
       "      <td>2010</td>\n",
       "      <td>3.5</td>\n",
       "      <td>186005</td>\n",
       "      <td>6</td>\n",
       "      <td>12</td>\n",
       "      <td>0</td>\n",
       "      <td>0</td>\n",
       "      <td>0</td>\n",
       "      <td>0</td>\n",
       "      <td>...</td>\n",
       "      <td>0</td>\n",
       "      <td>0</td>\n",
       "      <td>0</td>\n",
       "      <td>1</td>\n",
       "      <td>0</td>\n",
       "      <td>0</td>\n",
       "      <td>0</td>\n",
       "      <td>0</td>\n",
       "      <td>0</td>\n",
       "      <td>66</td>\n",
       "    </tr>\n",
       "    <tr>\n",
       "      <th>1</th>\n",
       "      <td>16621</td>\n",
       "      <td>2011</td>\n",
       "      <td>3.0</td>\n",
       "      <td>192000</td>\n",
       "      <td>6</td>\n",
       "      <td>8</td>\n",
       "      <td>0</td>\n",
       "      <td>1</td>\n",
       "      <td>0</td>\n",
       "      <td>0</td>\n",
       "      <td>...</td>\n",
       "      <td>0</td>\n",
       "      <td>1</td>\n",
       "      <td>0</td>\n",
       "      <td>0</td>\n",
       "      <td>0</td>\n",
       "      <td>1</td>\n",
       "      <td>0</td>\n",
       "      <td>0</td>\n",
       "      <td>0</td>\n",
       "      <td>83</td>\n",
       "    </tr>\n",
       "    <tr>\n",
       "      <th>2</th>\n",
       "      <td>8467</td>\n",
       "      <td>2006</td>\n",
       "      <td>1.3</td>\n",
       "      <td>200000</td>\n",
       "      <td>4</td>\n",
       "      <td>2</td>\n",
       "      <td>0</td>\n",
       "      <td>0</td>\n",
       "      <td>0</td>\n",
       "      <td>0</td>\n",
       "      <td>...</td>\n",
       "      <td>0</td>\n",
       "      <td>1</td>\n",
       "      <td>0</td>\n",
       "      <td>0</td>\n",
       "      <td>1</td>\n",
       "      <td>0</td>\n",
       "      <td>1</td>\n",
       "      <td>0</td>\n",
       "      <td>1</td>\n",
       "      <td>42</td>\n",
       "    </tr>\n",
       "    <tr>\n",
       "      <th>3</th>\n",
       "      <td>3607</td>\n",
       "      <td>2011</td>\n",
       "      <td>2.5</td>\n",
       "      <td>168966</td>\n",
       "      <td>4</td>\n",
       "      <td>0</td>\n",
       "      <td>0</td>\n",
       "      <td>0</td>\n",
       "      <td>1</td>\n",
       "      <td>0</td>\n",
       "      <td>...</td>\n",
       "      <td>0</td>\n",
       "      <td>0</td>\n",
       "      <td>0</td>\n",
       "      <td>1</td>\n",
       "      <td>0</td>\n",
       "      <td>0</td>\n",
       "      <td>0</td>\n",
       "      <td>0</td>\n",
       "      <td>0</td>\n",
       "      <td>18</td>\n",
       "    </tr>\n",
       "    <tr>\n",
       "      <th>4</th>\n",
       "      <td>11726</td>\n",
       "      <td>2014</td>\n",
       "      <td>1.3</td>\n",
       "      <td>91901</td>\n",
       "      <td>4</td>\n",
       "      <td>4</td>\n",
       "      <td>0</td>\n",
       "      <td>0</td>\n",
       "      <td>0</td>\n",
       "      <td>0</td>\n",
       "      <td>...</td>\n",
       "      <td>0</td>\n",
       "      <td>1</td>\n",
       "      <td>0</td>\n",
       "      <td>1</td>\n",
       "      <td>0</td>\n",
       "      <td>0</td>\n",
       "      <td>1</td>\n",
       "      <td>0</td>\n",
       "      <td>0</td>\n",
       "      <td>58</td>\n",
       "    </tr>\n",
       "  </tbody>\n",
       "</table>\n",
       "<p>5 rows × 35 columns</p>\n",
       "</div>"
      ],
      "text/plain": [
       "   Price  Prod. year  Engine volume  Mileage  Cylinders  Airbags  \\\n",
       "0  13328        2010            3.5   186005          6       12   \n",
       "1  16621        2011            3.0   192000          6        8   \n",
       "2   8467        2006            1.3   200000          4        2   \n",
       "3   3607        2011            2.5   168966          4        0   \n",
       "4  11726        2014            1.3    91901          4        4   \n",
       "\n",
       "   Manufacturer_BMW  Manufacturer_CHEVROLET  Manufacturer_FORD  \\\n",
       "0                 0                       0                  0   \n",
       "1                 0                       1                  0   \n",
       "2                 0                       0                  0   \n",
       "3                 0                       0                  1   \n",
       "4                 0                       0                  0   \n",
       "\n",
       "   Manufacturer_HYUNDAI  ...  Fuel type_LPG  Fuel type_Petrol  \\\n",
       "0                     0  ...              0                 0   \n",
       "1                     0  ...              0                 1   \n",
       "2                     0  ...              0                 1   \n",
       "3                     0  ...              0                 0   \n",
       "4                     0  ...              0                 1   \n",
       "\n",
       "   Fuel type_Plug-in Hybrid  Gear box type_Automatic  Gear box type_Other  \\\n",
       "0                         0                        1                    0   \n",
       "1                         0                        0                    0   \n",
       "2                         0                        0                    1   \n",
       "3                         0                        1                    0   \n",
       "4                         0                        1                    0   \n",
       "\n",
       "   Gear box type_Tiptronic  Drive wheels_Front  Drive wheels_Rear  \\\n",
       "0                        0                   0                  0   \n",
       "1                        1                   0                  0   \n",
       "2                        0                   1                  0   \n",
       "3                        0                   0                  0   \n",
       "4                        0                   1                  0   \n",
       "\n",
       "   Wheel_Right-hand drive  class_price  \n",
       "0                       0           66  \n",
       "1                       0           83  \n",
       "2                       1           42  \n",
       "3                       0           18  \n",
       "4                       0           58  \n",
       "\n",
       "[5 rows x 35 columns]"
      ]
     },
     "execution_count": 189,
     "metadata": {},
     "output_type": "execute_result"
    }
   ],
   "source": [
    "df.head()"
   ]
  },
  {
   "cell_type": "code",
   "execution_count": 190,
   "id": "045c15c7",
   "metadata": {},
   "outputs": [],
   "source": [
    "df.drop([\"Price\"],inplace=True,axis=1)"
   ]
  },
  {
   "cell_type": "code",
   "execution_count": 191,
   "id": "759163eb",
   "metadata": {},
   "outputs": [],
   "source": [
    "from sklearn.preprocessing import StandardScaler\n",
    "scaler=StandardScaler()\n",
    "df.iloc[:,:5]=scaler.fit_transform(df.iloc[:,:5])"
   ]
  },
  {
   "cell_type": "code",
   "execution_count": 192,
   "id": "94a596df",
   "metadata": {},
   "outputs": [
    {
     "data": {
      "text/html": [
       "<div>\n",
       "<style scoped>\n",
       "    .dataframe tbody tr th:only-of-type {\n",
       "        vertical-align: middle;\n",
       "    }\n",
       "\n",
       "    .dataframe tbody tr th {\n",
       "        vertical-align: top;\n",
       "    }\n",
       "\n",
       "    .dataframe thead th {\n",
       "        text-align: right;\n",
       "    }\n",
       "</style>\n",
       "<table border=\"1\" class=\"dataframe\">\n",
       "  <thead>\n",
       "    <tr style=\"text-align: right;\">\n",
       "      <th></th>\n",
       "      <th>Prod. year</th>\n",
       "      <th>Engine volume</th>\n",
       "      <th>Mileage</th>\n",
       "      <th>Cylinders</th>\n",
       "      <th>Airbags</th>\n",
       "      <th>Manufacturer_BMW</th>\n",
       "      <th>Manufacturer_CHEVROLET</th>\n",
       "      <th>Manufacturer_FORD</th>\n",
       "      <th>Manufacturer_HYUNDAI</th>\n",
       "      <th>Manufacturer_MERCEDES-BENZ</th>\n",
       "      <th>...</th>\n",
       "      <th>Fuel type_Hydrogen</th>\n",
       "      <th>Fuel type_LPG</th>\n",
       "      <th>Fuel type_Petrol</th>\n",
       "      <th>Fuel type_Plug-in Hybrid</th>\n",
       "      <th>Gear box type_Automatic</th>\n",
       "      <th>Gear box type_Other</th>\n",
       "      <th>Gear box type_Tiptronic</th>\n",
       "      <th>Drive wheels_Front</th>\n",
       "      <th>Drive wheels_Rear</th>\n",
       "      <th>Wheel_Right-hand drive</th>\n",
       "    </tr>\n",
       "  </thead>\n",
       "  <tbody>\n",
       "    <tr>\n",
       "      <th>0</th>\n",
       "      <td>-0.117071</td>\n",
       "      <td>1.427610</td>\n",
       "      <td>-0.029000</td>\n",
       "      <td>1.256101</td>\n",
       "      <td>1.255022</td>\n",
       "      <td>0</td>\n",
       "      <td>0</td>\n",
       "      <td>0</td>\n",
       "      <td>0</td>\n",
       "      <td>0</td>\n",
       "      <td>...</td>\n",
       "      <td>0</td>\n",
       "      <td>0</td>\n",
       "      <td>0</td>\n",
       "      <td>0</td>\n",
       "      <td>1</td>\n",
       "      <td>0</td>\n",
       "      <td>0</td>\n",
       "      <td>0</td>\n",
       "      <td>0</td>\n",
       "      <td>0</td>\n",
       "    </tr>\n",
       "    <tr>\n",
       "      <th>1</th>\n",
       "      <td>0.060861</td>\n",
       "      <td>0.844069</td>\n",
       "      <td>-0.028881</td>\n",
       "      <td>1.256101</td>\n",
       "      <td>0.330220</td>\n",
       "      <td>0</td>\n",
       "      <td>1</td>\n",
       "      <td>0</td>\n",
       "      <td>0</td>\n",
       "      <td>0</td>\n",
       "      <td>...</td>\n",
       "      <td>0</td>\n",
       "      <td>0</td>\n",
       "      <td>1</td>\n",
       "      <td>0</td>\n",
       "      <td>0</td>\n",
       "      <td>0</td>\n",
       "      <td>1</td>\n",
       "      <td>0</td>\n",
       "      <td>0</td>\n",
       "      <td>0</td>\n",
       "    </tr>\n",
       "    <tr>\n",
       "      <th>2</th>\n",
       "      <td>-0.828800</td>\n",
       "      <td>-1.139970</td>\n",
       "      <td>-0.028722</td>\n",
       "      <td>-0.470989</td>\n",
       "      <td>-1.056983</td>\n",
       "      <td>0</td>\n",
       "      <td>0</td>\n",
       "      <td>0</td>\n",
       "      <td>0</td>\n",
       "      <td>0</td>\n",
       "      <td>...</td>\n",
       "      <td>0</td>\n",
       "      <td>0</td>\n",
       "      <td>1</td>\n",
       "      <td>0</td>\n",
       "      <td>0</td>\n",
       "      <td>1</td>\n",
       "      <td>0</td>\n",
       "      <td>1</td>\n",
       "      <td>0</td>\n",
       "      <td>1</td>\n",
       "    </tr>\n",
       "    <tr>\n",
       "      <th>3</th>\n",
       "      <td>0.060861</td>\n",
       "      <td>0.260528</td>\n",
       "      <td>-0.029340</td>\n",
       "      <td>-0.470989</td>\n",
       "      <td>-1.519384</td>\n",
       "      <td>0</td>\n",
       "      <td>0</td>\n",
       "      <td>1</td>\n",
       "      <td>0</td>\n",
       "      <td>0</td>\n",
       "      <td>...</td>\n",
       "      <td>0</td>\n",
       "      <td>0</td>\n",
       "      <td>0</td>\n",
       "      <td>0</td>\n",
       "      <td>1</td>\n",
       "      <td>0</td>\n",
       "      <td>0</td>\n",
       "      <td>0</td>\n",
       "      <td>0</td>\n",
       "      <td>0</td>\n",
       "    </tr>\n",
       "    <tr>\n",
       "      <th>4</th>\n",
       "      <td>0.594657</td>\n",
       "      <td>-1.139970</td>\n",
       "      <td>-0.030874</td>\n",
       "      <td>-0.470989</td>\n",
       "      <td>-0.594582</td>\n",
       "      <td>0</td>\n",
       "      <td>0</td>\n",
       "      <td>0</td>\n",
       "      <td>0</td>\n",
       "      <td>0</td>\n",
       "      <td>...</td>\n",
       "      <td>0</td>\n",
       "      <td>0</td>\n",
       "      <td>1</td>\n",
       "      <td>0</td>\n",
       "      <td>1</td>\n",
       "      <td>0</td>\n",
       "      <td>0</td>\n",
       "      <td>1</td>\n",
       "      <td>0</td>\n",
       "      <td>0</td>\n",
       "    </tr>\n",
       "    <tr>\n",
       "      <th>...</th>\n",
       "      <td>...</td>\n",
       "      <td>...</td>\n",
       "      <td>...</td>\n",
       "      <td>...</td>\n",
       "      <td>...</td>\n",
       "      <td>...</td>\n",
       "      <td>...</td>\n",
       "      <td>...</td>\n",
       "      <td>...</td>\n",
       "      <td>...</td>\n",
       "      <td>...</td>\n",
       "      <td>...</td>\n",
       "      <td>...</td>\n",
       "      <td>...</td>\n",
       "      <td>...</td>\n",
       "      <td>...</td>\n",
       "      <td>...</td>\n",
       "      <td>...</td>\n",
       "      <td>...</td>\n",
       "      <td>...</td>\n",
       "      <td>...</td>\n",
       "    </tr>\n",
       "    <tr>\n",
       "      <th>19232</th>\n",
       "      <td>-2.074326</td>\n",
       "      <td>-0.323013</td>\n",
       "      <td>-0.026730</td>\n",
       "      <td>-0.470989</td>\n",
       "      <td>-0.363382</td>\n",
       "      <td>0</td>\n",
       "      <td>0</td>\n",
       "      <td>0</td>\n",
       "      <td>0</td>\n",
       "      <td>1</td>\n",
       "      <td>...</td>\n",
       "      <td>0</td>\n",
       "      <td>0</td>\n",
       "      <td>0</td>\n",
       "      <td>0</td>\n",
       "      <td>0</td>\n",
       "      <td>1</td>\n",
       "      <td>0</td>\n",
       "      <td>0</td>\n",
       "      <td>1</td>\n",
       "      <td>0</td>\n",
       "    </tr>\n",
       "    <tr>\n",
       "      <th>19233</th>\n",
       "      <td>0.060861</td>\n",
       "      <td>0.143820</td>\n",
       "      <td>-0.029486</td>\n",
       "      <td>-0.470989</td>\n",
       "      <td>0.330220</td>\n",
       "      <td>0</td>\n",
       "      <td>0</td>\n",
       "      <td>0</td>\n",
       "      <td>1</td>\n",
       "      <td>0</td>\n",
       "      <td>...</td>\n",
       "      <td>0</td>\n",
       "      <td>0</td>\n",
       "      <td>1</td>\n",
       "      <td>0</td>\n",
       "      <td>0</td>\n",
       "      <td>0</td>\n",
       "      <td>1</td>\n",
       "      <td>1</td>\n",
       "      <td>0</td>\n",
       "      <td>0</td>\n",
       "    </tr>\n",
       "    <tr>\n",
       "      <th>19234</th>\n",
       "      <td>-0.117071</td>\n",
       "      <td>-0.323013</td>\n",
       "      <td>-0.030387</td>\n",
       "      <td>-0.470989</td>\n",
       "      <td>-0.594582</td>\n",
       "      <td>0</td>\n",
       "      <td>0</td>\n",
       "      <td>0</td>\n",
       "      <td>1</td>\n",
       "      <td>0</td>\n",
       "      <td>...</td>\n",
       "      <td>0</td>\n",
       "      <td>0</td>\n",
       "      <td>0</td>\n",
       "      <td>0</td>\n",
       "      <td>1</td>\n",
       "      <td>0</td>\n",
       "      <td>0</td>\n",
       "      <td>1</td>\n",
       "      <td>0</td>\n",
       "      <td>0</td>\n",
       "    </tr>\n",
       "    <tr>\n",
       "      <th>19235</th>\n",
       "      <td>-0.650868</td>\n",
       "      <td>-0.323013</td>\n",
       "      <td>-0.031684</td>\n",
       "      <td>-0.470989</td>\n",
       "      <td>-0.594582</td>\n",
       "      <td>0</td>\n",
       "      <td>1</td>\n",
       "      <td>0</td>\n",
       "      <td>0</td>\n",
       "      <td>0</td>\n",
       "      <td>...</td>\n",
       "      <td>0</td>\n",
       "      <td>0</td>\n",
       "      <td>0</td>\n",
       "      <td>0</td>\n",
       "      <td>1</td>\n",
       "      <td>0</td>\n",
       "      <td>0</td>\n",
       "      <td>1</td>\n",
       "      <td>0</td>\n",
       "      <td>0</td>\n",
       "    </tr>\n",
       "    <tr>\n",
       "      <th>19236</th>\n",
       "      <td>0.238793</td>\n",
       "      <td>0.143820</td>\n",
       "      <td>-0.028982</td>\n",
       "      <td>-0.470989</td>\n",
       "      <td>1.255022</td>\n",
       "      <td>0</td>\n",
       "      <td>0</td>\n",
       "      <td>0</td>\n",
       "      <td>1</td>\n",
       "      <td>0</td>\n",
       "      <td>...</td>\n",
       "      <td>0</td>\n",
       "      <td>0</td>\n",
       "      <td>0</td>\n",
       "      <td>0</td>\n",
       "      <td>1</td>\n",
       "      <td>0</td>\n",
       "      <td>0</td>\n",
       "      <td>1</td>\n",
       "      <td>0</td>\n",
       "      <td>0</td>\n",
       "    </tr>\n",
       "  </tbody>\n",
       "</table>\n",
       "<p>17869 rows × 33 columns</p>\n",
       "</div>"
      ],
      "text/plain": [
       "       Prod. year  Engine volume   Mileage  Cylinders   Airbags  \\\n",
       "0       -0.117071       1.427610 -0.029000   1.256101  1.255022   \n",
       "1        0.060861       0.844069 -0.028881   1.256101  0.330220   \n",
       "2       -0.828800      -1.139970 -0.028722  -0.470989 -1.056983   \n",
       "3        0.060861       0.260528 -0.029340  -0.470989 -1.519384   \n",
       "4        0.594657      -1.139970 -0.030874  -0.470989 -0.594582   \n",
       "...           ...            ...       ...        ...       ...   \n",
       "19232   -2.074326      -0.323013 -0.026730  -0.470989 -0.363382   \n",
       "19233    0.060861       0.143820 -0.029486  -0.470989  0.330220   \n",
       "19234   -0.117071      -0.323013 -0.030387  -0.470989 -0.594582   \n",
       "19235   -0.650868      -0.323013 -0.031684  -0.470989 -0.594582   \n",
       "19236    0.238793       0.143820 -0.028982  -0.470989  1.255022   \n",
       "\n",
       "       Manufacturer_BMW  Manufacturer_CHEVROLET  Manufacturer_FORD  \\\n",
       "0                     0                       0                  0   \n",
       "1                     0                       1                  0   \n",
       "2                     0                       0                  0   \n",
       "3                     0                       0                  1   \n",
       "4                     0                       0                  0   \n",
       "...                 ...                     ...                ...   \n",
       "19232                 0                       0                  0   \n",
       "19233                 0                       0                  0   \n",
       "19234                 0                       0                  0   \n",
       "19235                 0                       1                  0   \n",
       "19236                 0                       0                  0   \n",
       "\n",
       "       Manufacturer_HYUNDAI  Manufacturer_MERCEDES-BENZ  ...  \\\n",
       "0                         0                           0  ...   \n",
       "1                         0                           0  ...   \n",
       "2                         0                           0  ...   \n",
       "3                         0                           0  ...   \n",
       "4                         0                           0  ...   \n",
       "...                     ...                         ...  ...   \n",
       "19232                     0                           1  ...   \n",
       "19233                     1                           0  ...   \n",
       "19234                     1                           0  ...   \n",
       "19235                     0                           0  ...   \n",
       "19236                     1                           0  ...   \n",
       "\n",
       "       Fuel type_Hydrogen  Fuel type_LPG  Fuel type_Petrol  \\\n",
       "0                       0              0                 0   \n",
       "1                       0              0                 1   \n",
       "2                       0              0                 1   \n",
       "3                       0              0                 0   \n",
       "4                       0              0                 1   \n",
       "...                   ...            ...               ...   \n",
       "19232                   0              0                 0   \n",
       "19233                   0              0                 1   \n",
       "19234                   0              0                 0   \n",
       "19235                   0              0                 0   \n",
       "19236                   0              0                 0   \n",
       "\n",
       "       Fuel type_Plug-in Hybrid  Gear box type_Automatic  Gear box type_Other  \\\n",
       "0                             0                        1                    0   \n",
       "1                             0                        0                    0   \n",
       "2                             0                        0                    1   \n",
       "3                             0                        1                    0   \n",
       "4                             0                        1                    0   \n",
       "...                         ...                      ...                  ...   \n",
       "19232                         0                        0                    1   \n",
       "19233                         0                        0                    0   \n",
       "19234                         0                        1                    0   \n",
       "19235                         0                        1                    0   \n",
       "19236                         0                        1                    0   \n",
       "\n",
       "       Gear box type_Tiptronic  Drive wheels_Front  Drive wheels_Rear  \\\n",
       "0                            0                   0                  0   \n",
       "1                            1                   0                  0   \n",
       "2                            0                   1                  0   \n",
       "3                            0                   0                  0   \n",
       "4                            0                   1                  0   \n",
       "...                        ...                 ...                ...   \n",
       "19232                        0                   0                  1   \n",
       "19233                        1                   1                  0   \n",
       "19234                        0                   1                  0   \n",
       "19235                        0                   1                  0   \n",
       "19236                        0                   1                  0   \n",
       "\n",
       "       Wheel_Right-hand drive  \n",
       "0                           0  \n",
       "1                           0  \n",
       "2                           1  \n",
       "3                           0  \n",
       "4                           0  \n",
       "...                       ...  \n",
       "19232                       0  \n",
       "19233                       0  \n",
       "19234                       0  \n",
       "19235                       0  \n",
       "19236                       0  \n",
       "\n",
       "[17869 rows x 33 columns]"
      ]
     },
     "execution_count": 192,
     "metadata": {},
     "output_type": "execute_result"
    }
   ],
   "source": [
    "x=df.drop(\"class_price\",axis=1)\n",
    "y=df[\"class_price\"]\n",
    "x"
   ]
  },
  {
   "cell_type": "code",
   "execution_count": null,
   "id": "8a5596de",
   "metadata": {},
   "outputs": [],
   "source": []
  },
  {
   "cell_type": "code",
   "execution_count": 193,
   "id": "43216efb",
   "metadata": {},
   "outputs": [],
   "source": [
    "from sklearn.model_selection import train_test_split\n",
    "x_train,x_test,y_train,y_test=train_test_split(x,y,test_size=0.05,random_state=40)\n"
   ]
  },
  {
   "cell_type": "code",
   "execution_count": 194,
   "id": "0d3532bd",
   "metadata": {},
   "outputs": [],
   "source": [
    "#scaler=StandardScaler()\n",
    "#x=scaler.fit_transform(x)"
   ]
  },
  {
   "cell_type": "code",
   "execution_count": null,
   "id": "567a2c6d",
   "metadata": {},
   "outputs": [],
   "source": []
  },
  {
   "cell_type": "code",
   "execution_count": 195,
   "id": "e621e7a4",
   "metadata": {},
   "outputs": [],
   "source": [
    "from sklearn.linear_model import LinearRegression\n",
    "from sklearn.neighbors import KNeighborsRegressor\n",
    "from sklearn.tree import DecisionTreeRegressor\n",
    "from sklearn.svm import SVR\n",
    "from sklearn.svm import SVC\n",
    "from sklearn.ensemble import RandomForestRegressor\n",
    "from sklearn.ensemble import RandomForestClassifier\n",
    "from xgboost import XGBClassifier\n",
    "from xgboost import XGBRegressor"
   ]
  },
  {
   "cell_type": "code",
   "execution_count": 96,
   "id": "23b0d95b",
   "metadata": {},
   "outputs": [],
   "source": [
    "models = {\n",
    "    \"LR\": LinearRegression(),\n",
    "    \"KNN\" : KNeighborsRegressor(), \n",
    "    #\"SVR\": SVR(),\n",
    "    #'SVC':SVC(),\n",
    "    \"DT\": DecisionTreeRegressor(),\n",
    "    \"RF\": RandomForestRegressor(n_estimators=80),\n",
    "    \"RFC\": RandomForestClassifier(),\n",
    "    \"XGBC\": XGBClassifier(n_estimators=70),\n",
    "    \"XGBR\": XGBRegressor(n_estimators=70)\n",
    "}"
   ]
  },
  {
   "cell_type": "code",
   "execution_count": 97,
   "id": "56051eb3",
   "metadata": {},
   "outputs": [
    {
     "name": "stdout",
     "output_type": "stream",
     "text": [
      "Using model: LR\n",
      "Training Score: 0.3106999331499041\n",
      "Test Score: 0.3002098174637198\n",
      "------------------------------\n",
      "Using model: KNN\n",
      "Training Score: 0.7999308695863817\n",
      "Test Score: 0.7200622696435255\n",
      "------------------------------\n",
      "Using model: DT\n",
      "Training Score: 0.9888155141731629\n",
      "Test Score: 0.6292925985572839\n",
      "------------------------------\n",
      "Using model: RF\n",
      "Training Score: 0.9553151546229492\n",
      "Test Score: 0.8016025889845999\n",
      "------------------------------\n",
      "Using model: RFC\n",
      "Training Score: 0.9777908689248895\n",
      "Test Score: 0.30201342281879195\n",
      "------------------------------\n",
      "Using model: XGBC\n"
     ]
    },
    {
     "name": "stderr",
     "output_type": "stream",
     "text": [
      "C:\\Users\\MAS\\AppData\\Local\\Programs\\Python\\Python310\\lib\\site-packages\\xgboost\\sklearn.py:1224: UserWarning: The use of label encoder in XGBClassifier is deprecated and will be removed in a future release. To remove this warning, do the following: 1) Pass option use_label_encoder=False when constructing XGBClassifier object; and 2) Encode your labels (y) as integers starting with 0, i.e. 0, 1, 2, ..., [num_class - 1].\n",
      "  warnings.warn(label_encoder_deprecation_msg, UserWarning)\n",
      "C:\\Users\\MAS\\AppData\\Local\\Programs\\Python\\Python310\\lib\\site-packages\\xgboost\\data.py:262: FutureWarning: pandas.Int64Index is deprecated and will be removed from pandas in a future version. Use pandas.Index with the appropriate dtype instead.\n",
      "  elif isinstance(data.columns, (pd.Int64Index, pd.RangeIndex)):\n"
     ]
    },
    {
     "name": "stdout",
     "output_type": "stream",
     "text": [
      "[17:47:44] WARNING: C:/Users/Administrator/workspace/xgboost-win64_release_1.5.1/src/learner.cc:1115: Starting in XGBoost 1.3.0, the default evaluation metric used with the objective 'multi:softprob' was changed from 'merror' to 'mlogloss'. Explicitly set eval_metric if you'd like to restore the old behavior.\n",
      "Training Score: 0.8407658321060383\n",
      "Test Score: 0.2807606263982103"
     ]
    },
    {
     "name": "stderr",
     "output_type": "stream",
     "text": [
      "C:\\Users\\MAS\\AppData\\Local\\Programs\\Python\\Python310\\lib\\site-packages\\xgboost\\data.py:262: FutureWarning: pandas.Int64Index is deprecated and will be removed from pandas in a future version. Use pandas.Index with the appropriate dtype instead.\n",
      "  elif isinstance(data.columns, (pd.Int64Index, pd.RangeIndex)):\n"
     ]
    },
    {
     "name": "stdout",
     "output_type": "stream",
     "text": [
      "\n",
      "------------------------------\n",
      "Using model: XGBR\n"
     ]
    },
    {
     "name": "stderr",
     "output_type": "stream",
     "text": [
      "C:\\Users\\MAS\\AppData\\Local\\Programs\\Python\\Python310\\lib\\site-packages\\xgboost\\data.py:262: FutureWarning: pandas.Int64Index is deprecated and will be removed from pandas in a future version. Use pandas.Index with the appropriate dtype instead.\n",
      "  elif isinstance(data.columns, (pd.Int64Index, pd.RangeIndex)):\n"
     ]
    },
    {
     "name": "stdout",
     "output_type": "stream",
     "text": [
      "Training Score: 0.8151706813752053\n",
      "Test Score: 0.751895193030202\n",
      "------------------------------\n"
     ]
    },
    {
     "name": "stderr",
     "output_type": "stream",
     "text": [
      "C:\\Users\\MAS\\AppData\\Local\\Programs\\Python\\Python310\\lib\\site-packages\\xgboost\\data.py:262: FutureWarning: pandas.Int64Index is deprecated and will be removed from pandas in a future version. Use pandas.Index with the appropriate dtype instead.\n",
      "  elif isinstance(data.columns, (pd.Int64Index, pd.RangeIndex)):\n"
     ]
    }
   ],
   "source": [
    "for name, model in models.items():\n",
    "    print(f'Using model: {name}')\n",
    "    model.fit(x_train, y_train)\n",
    "    print(f'Training Score: {model.score(x_train, y_train)}')\n",
    "    print(f'Test Score: {model.score(x_test, y_test)}')  \n",
    "    print('-'*30)"
   ]
  },
  {
   "cell_type": "markdown",
   "id": "fb733ba9",
   "metadata": {},
   "source": [
    "## save model"
   ]
  },
  {
   "cell_type": "code",
   "execution_count": 99,
   "id": "3e53db0f",
   "metadata": {},
   "outputs": [
    {
     "name": "stderr",
     "output_type": "stream",
     "text": [
      "C:\\Users\\MAS\\AppData\\Local\\Programs\\Python\\Python310\\lib\\site-packages\\xgboost\\data.py:262: FutureWarning: pandas.Int64Index is deprecated and will be removed from pandas in a future version. Use pandas.Index with the appropriate dtype instead.\n",
      "  elif isinstance(data.columns, (pd.Int64Index, pd.RangeIndex)):\n"
     ]
    },
    {
     "data": {
      "text/plain": [
       "XGBRegressor(base_score=0.5, booster='gbtree', colsample_bylevel=1,\n",
       "             colsample_bynode=1, colsample_bytree=1, enable_categorical=False,\n",
       "             gamma=0, gpu_id=-1, importance_type=None,\n",
       "             interaction_constraints='', learning_rate=0.300000012,\n",
       "             max_delta_step=0, max_depth=6, min_child_weight=1, missing=nan,\n",
       "             monotone_constraints='()', n_estimators=70, n_jobs=4,\n",
       "             num_parallel_tree=1, predictor='auto', random_state=0, reg_alpha=0,\n",
       "             reg_lambda=1, scale_pos_weight=1, subsample=1, tree_method='exact',\n",
       "             validate_parameters=1, verbosity=None)"
      ]
     },
     "execution_count": 99,
     "metadata": {},
     "output_type": "execute_result"
    }
   ],
   "source": [
    "model=XGBRegressor(n_estimators=70)\n",
    "model.fit(x_train, y_train)"
   ]
  },
  {
   "cell_type": "code",
   "execution_count": 100,
   "id": "fb792788",
   "metadata": {},
   "outputs": [
    {
     "data": {
      "text/plain": [
       "Index(['Prod. year', 'Engine volume', 'Mileage', 'Cylinders', 'Airbags',\n",
       "       'Manufacturer_BMW', 'Manufacturer_CHEVROLET', 'Manufacturer_FORD',\n",
       "       'Manufacturer_HYUNDAI', 'Manufacturer_MERCEDES-BENZ',\n",
       "       'Manufacturer_Other', 'Manufacturer_TOYOTA', 'Turbo',\n",
       "       'Leather interior_Yes', 'Category_Coupe', 'Category_Hatchback',\n",
       "       'Category_Jeep', 'Category_Minivan', 'Category_Other', 'Category_Sedan',\n",
       "       'Category_Universal', 'Fuel type_Diesel', 'Fuel type_Hybrid',\n",
       "       'Fuel type_Hydrogen', 'Fuel type_LPG', 'Fuel type_Petrol',\n",
       "       'Fuel type_Plug-in Hybrid', 'Gear box type_Automatic',\n",
       "       'Gear box type_Other', 'Gear box type_Tiptronic', 'Drive wheels_Front',\n",
       "       'Drive wheels_Rear', 'Wheel_Right-hand drive'],\n",
       "      dtype='object')"
      ]
     },
     "execution_count": 100,
     "metadata": {},
     "output_type": "execute_result"
    }
   ],
   "source": [
    "features=x.columns\n",
    "features"
   ]
  },
  {
   "cell_type": "code",
   "execution_count": 101,
   "id": "76c825f5",
   "metadata": {},
   "outputs": [
    {
     "data": {
      "text/plain": [
       "['scaler.h5']"
      ]
     },
     "execution_count": 101,
     "metadata": {},
     "output_type": "execute_result"
    }
   ],
   "source": [
    "import joblib\n",
    "\n",
    "joblib.dump(model, 'model.h5')\n",
    "\n",
    "joblib.dump(features, 'features.h5')\n",
    "joblib.dump(scaler, 'scaler.h5')"
   ]
  },
  {
   "cell_type": "code",
   "execution_count": 102,
   "id": "10072ef2",
   "metadata": {},
   "outputs": [],
   "source": [
    "import joblib\n",
    "import numpy as np\n",
    "\n",
    "model=joblib.load('model.h5')\n",
    "\n",
    "features=joblib.load('features.h5')\n",
    "scaler=joblib.load('scaler.h5')\n"
   ]
  },
  {
   "cell_type": "code",
   "execution_count": 103,
   "id": "5d38f8eb",
   "metadata": {},
   "outputs": [
    {
     "data": {
      "text/plain": [
       "Index(['Prod. year', 'Engine volume', 'Mileage', 'Cylinders', 'Airbags',\n",
       "       'Manufacturer_BMW', 'Manufacturer_CHEVROLET', 'Manufacturer_FORD',\n",
       "       'Manufacturer_HYUNDAI', 'Manufacturer_MERCEDES-BENZ',\n",
       "       'Manufacturer_Other', 'Manufacturer_TOYOTA', 'Turbo',\n",
       "       'Leather interior_Yes', 'Category_Coupe', 'Category_Hatchback',\n",
       "       'Category_Jeep', 'Category_Minivan', 'Category_Other', 'Category_Sedan',\n",
       "       'Category_Universal', 'Fuel type_Diesel', 'Fuel type_Hybrid',\n",
       "       'Fuel type_Hydrogen', 'Fuel type_LPG', 'Fuel type_Petrol',\n",
       "       'Fuel type_Plug-in Hybrid', 'Gear box type_Automatic',\n",
       "       'Gear box type_Other', 'Gear box type_Tiptronic', 'Drive wheels_Front',\n",
       "       'Drive wheels_Rear', 'Wheel_Right-hand drive'],\n",
       "      dtype='object')"
      ]
     },
     "execution_count": 103,
     "metadata": {},
     "output_type": "execute_result"
    }
   ],
   "source": [
    "features"
   ]
  },
  {
   "cell_type": "code",
   "execution_count": null,
   "id": "de3ea5ce",
   "metadata": {},
   "outputs": [],
   "source": []
  },
  {
   "cell_type": "code",
   "execution_count": null,
   "id": "ff110e40",
   "metadata": {},
   "outputs": [],
   "source": []
  },
  {
   "cell_type": "code",
   "execution_count": null,
   "id": "bb52f3ff",
   "metadata": {},
   "outputs": [],
   "source": []
  }
 ],
 "metadata": {
  "celltoolbar": "Slideshow",
  "kernelspec": {
   "display_name": "Python 3 (ipykernel)",
   "language": "python",
   "name": "python3"
  },
  "language_info": {
   "codemirror_mode": {
    "name": "ipython",
    "version": 3
   },
   "file_extension": ".py",
   "mimetype": "text/x-python",
   "name": "python",
   "nbconvert_exporter": "python",
   "pygments_lexer": "ipython3",
   "version": "3.10.2"
  }
 },
 "nbformat": 4,
 "nbformat_minor": 5
}
